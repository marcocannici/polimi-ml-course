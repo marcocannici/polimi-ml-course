{
 "cells": [
  {
   "cell_type": "markdown",
   "metadata": {},
   "source": [
    "<table width=100%>\n",
    "<tr>\n",
    "    <td><h1 style=\"text-align: left; font-size:300%;\">\n",
    "        Classification with SciKit-Learn\n",
    "    </h1></td>\n",
    "    <td width=\"20%\">\n",
    "    <div style=\"text-align: right\">\n",
    "    <b> Machine Learning 2021</b> <br>\n",
    "    <b>Lab04.01 - 05/05/2021<br>\n",
    "    Marco Cannici <br>\n",
    "    <a href=\"mailto:marco.cannici@polimi.it\">marco.cannici@polimi.it</a><br>\n",
    "    </div>\n",
    "    </td>\n",
    "    <td width=\"100px\"> \n",
    "        <a href=http://chrome.ws.dei.polimi.it/index.php?title=Machine_Learning_Bio>\n",
    "        <img align=\"right\", width=\"100px\" src='https://chart.googleapis.com/chart?cht=qr&chl=chrome.ws.dei.polimi.it/index.php?title=Machine_Learning_Bio&chs=180x180&choe=UTF-8&chld=L|0' alt=''>\n",
    "        </a>\n",
    "    </td>\n",
    "</tr>\n",
    "</table>"
   ]
  },
  {
   "cell_type": "code",
   "execution_count": null,
   "metadata": {},
   "outputs": [],
   "source": [
    "import matplotlib.pyplot as plt\n",
    "import seaborn as sns\n",
    "import pandas as pd\n",
    "import numpy as np\n",
    "import sklearn\n",
    "np.random.seed(0)"
   ]
  },
  {
   "cell_type": "markdown",
   "metadata": {},
   "source": [
    "## The South African Heart Disease Dataset\n",
    "\n",
    "The data represents white males between 15 and 64 years old having **presence or absence of myocardial infarction (MI)** at the time of the survey. The aim of the study, carried out in three rural areas of the Western Cape, South Africa, was to establish the intensity of ischemic heart disease risk factors in that high-incidence region.\n",
    "\n",
    "- sbp: systolic blood pressure\n",
    "- tobacco: cumulative tobacco (kg)\n",
    "- ldl: low density lipoprotein cholesterol\n",
    "- adiposity: a numeric vector\n",
    "- famhist: family history of heart disease, a factor with levels Absent Present\n",
    "- typea: type-A behavior (measure of psycho-social stress)\n",
    "- obesity: a numeric vector\n",
    "- alcohol: current alcohol consumption\n",
    "- age: age at onset\n",
    "- chd: response, coronary heart disease\n"
   ]
  },
  {
   "cell_type": "code",
   "execution_count": null,
   "metadata": {
    "scrolled": true
   },
   "outputs": [],
   "source": [
    "# Read the data and creates a pandas DataFrame\n",
    "pd_data = pd.read_csv(\"data/SAheart.csv\")\n",
    "# Remove extra column\n",
    "pd_data = pd_data.drop('row.names', axis=1)\n",
    "print(pd_data.head())"
   ]
  },
  {
   "cell_type": "markdown",
   "metadata": {},
   "source": [
    "### Missing values\n",
    "\n",
    "As usual we inspect the data to check if there are any missing values. As the regression algorithms we have seen in previous labs, all the algorithms we will use in this notebook require all the fields to have an actual value."
   ]
  },
  {
   "cell_type": "code",
   "execution_count": null,
   "metadata": {},
   "outputs": [],
   "source": [
    "# Check how many samples with missing values there are\n",
    "# tip: you can use pd.isna()\n",
    "# ...\n",
    "\n",
    "# Remove them\n",
    "# pd_data = pd_data.dropna(axis=0)"
   ]
  },
  {
   "cell_type": "markdown",
   "metadata": {},
   "source": [
    "### Categorical values"
   ]
  },
  {
   "cell_type": "code",
   "execution_count": null,
   "metadata": {},
   "outputs": [],
   "source": [
    "# Checkout values for famhist (tip: you can use unique)\n",
    "# ..."
   ]
  },
  {
   "cell_type": "markdown",
   "metadata": {},
   "source": [
    "Some features are categorical, meaning that they do not assume a numerical value and no ordering between values is trivially defined for them. E.g., we can't say `'Absent' > 'Present'`. We may have two options to handle these features:\n",
    "- Convert them into a single numerical feature, i.e., assigning to each category a numerical value starting from 1, or 0\n",
    "- Create a set of binary features, one for each possible value, and set to 1 only the feature corresponding to the actual sample value. This feature encoding is commonly called **one-hot**"
   ]
  },
  {
   "cell_type": "code",
   "execution_count": null,
   "metadata": {},
   "outputs": [],
   "source": [
    "def onehot_feature(pd_data, column_name):\n",
    "    # Retrieve the unique values (the categories) and an index for each sample\n",
    "    # specifying the sample category (values[value_idx] reconstruct the original array)\n",
    "    col_values = pd_data[column_name].to_numpy().astype('<U')\n",
    "    values, value_idx = #...\n",
    "    n_values = values.size\n",
    "    # Create a temporary identity matrix to convert value_idx into one-hot features\n",
    "    onehots = #...\n",
    "    value_onehot = #...\n",
    "    # Remove the categorical feature\n",
    "    pd_data = pd_data.drop(column_name, axis=1)\n",
    "    # Add the new featues\n",
    "    for i in range(n_values):\n",
    "        pd_data[\"{}_{}\".format(column_name, values[i])] = #...\n",
    "        \n",
    "    return pd_data\n",
    "\n",
    "# Convert famhist into a one-hot encoding\n",
    "pd_data_temp = onehot_feature(pd_data, 'famhist')\n",
    "pd_data_temp"
   ]
  },
  {
   "cell_type": "markdown",
   "metadata": {},
   "source": [
    "Since famhist has only two possible values, a batter way to handle this feature would be to convert it into a single binary feature. We usually prefer this option when the categorical feature has only two options, and the one-hot encoding when we are dealing with more than two possibilities."
   ]
  },
  {
   "cell_type": "code",
   "execution_count": null,
   "metadata": {},
   "outputs": [],
   "source": [
    "# Replace Present/Absent with 1.0/0.0\n",
    "# tip: you can use df..replace({'old':'new'}) \n",
    "pd_data['famhist'] = #..."
   ]
  },
  {
   "cell_type": "code",
   "execution_count": null,
   "metadata": {},
   "outputs": [],
   "source": [
    "print(pd_data.columns)\n",
    "pd_data.head()"
   ]
  },
  {
   "cell_type": "code",
   "execution_count": null,
   "metadata": {},
   "outputs": [],
   "source": [
    "# Show the pairplot (tip: use seaborn(data, hue='...'))\n",
    "# ..."
   ]
  },
  {
   "cell_type": "markdown",
   "metadata": {},
   "source": [
    "Another useful tool for preliminary data inspection is the **correlation matrix**, which, in simple terms, measure any statistical association between variables and commonly refers to the degree to which a pair of variables are linearly related.\n",
    "\n",
    "$\\rho_{X, Y}=\\operatorname{corr}(X, Y)=\\frac{\\operatorname{cov}(X, Y)}{\\sigma_{X} \\sigma_{Y}}=\\frac{\\mathrm{E}\\left[\\left(X-\\mu_{X}\\right)\\left(Y-\\mu_{Y}\\right)\\right]}{\\sigma_{X} \\sigma_{Y}}$"
   ]
  },
  {
   "cell_type": "code",
   "execution_count": null,
   "metadata": {
    "scrolled": false
   },
   "outputs": [],
   "source": [
    "corr = #...\n",
    "# you can create a figure using seaborn's heatmap()\n",
    "# ..."
   ]
  },
  {
   "cell_type": "markdown",
   "metadata": {},
   "source": [
    "## Classification with Linear Regression"
   ]
  },
  {
   "cell_type": "markdown",
   "metadata": {},
   "source": [
    "Let's first try to estimate the probability of CHD using a linear regressor. Since the probability is a continuous value ranging from 1 or 0, we may be tempted to use standard regression techniques to predict the probability value.\n",
    "\n",
    "Let's focus in this first analysis on a **single feature problem** (simple linear regression/classification) and try to predict the probability CHD just from the patient **Age**. We choose Age and not one of the others for no particular reason. We observe however that among all the features, Age seems to be the one most correlated with the CHD target value (more orange-ish color). To verify this, try to inspect the chd row/column of the data correlation matrix!"
   ]
  },
  {
   "cell_type": "code",
   "execution_count": null,
   "metadata": {},
   "outputs": [],
   "source": [
    "y = pd_data['chd'].to_numpy().astype(np.float32)\n",
    "# Use Age as feature\n",
    "X = pd_data[['age']]\n",
    "\n",
    "pd_data.plot.scatter('age', 'chd', c='chd', colormap='coolwarm', marker='.')"
   ]
  },
  {
   "cell_type": "markdown",
   "metadata": {},
   "source": [
    "As usual, we first split the data into training and test, since no test set is already been provided by the dataset."
   ]
  },
  {
   "cell_type": "code",
   "execution_count": null,
   "metadata": {
    "scrolled": true
   },
   "outputs": [],
   "source": [
    "split_seed = 42\n",
    "split_test_size = 0.2\n",
    "\n",
    "from sklearn.model_selection import train_test_split\n",
    "X_train, X_test, y_train, y_test = train_test_split(X, y,\n",
    "                                                    test_size=split_test_size, \n",
    "                                                    random_state=split_seed)"
   ]
  },
  {
   "cell_type": "code",
   "execution_count": null,
   "metadata": {},
   "outputs": [],
   "source": [
    "from sklearn.linear_model import LinearRegression  # 1- model selection\n",
    "model = LinearRegression(fit_intercept=True)       # 2- hyperparams\n",
    "model.fit(X_train, y_train)                        # 3- model fitting\n",
    "y_predict = model.predict(X_train)                 # 4- model testing\n",
    "\n",
    "# Plot the linear regressor boundary\n",
    "x1, x2 = #...\n",
    "y1, y2 = #...\n",
    "\n",
    "plt.scatter(X_train, y_train)\n",
    "plt.plot([x1, x2], [y1, y2], color='r')\n",
    "plt.xlabel(\"age\")\n",
    "plt.ylabel(\"Probability of AHD\")"
   ]
  },
  {
   "cell_type": "markdown",
   "metadata": {},
   "source": [
    "We already start to see some problems with this approach.\n",
    "- For certain values of age (very young and onld people) we predict a probability value that exceeds the [0, 1] range\n",
    "- Since the probability value is not bounded, we don't have a trivial way to convert the predicted value into a decision\n",
    "\n",
    "We can try to perform a thresholding on the predicted probability, but what **threshold** should we use?"
   ]
  },
  {
   "cell_type": "code",
   "execution_count": null,
   "metadata": {},
   "outputs": [],
   "source": [
    "def hard_threshold(y_pred):\n",
    "    return #...\n",
    "\n",
    "# Plot the class decision boundary\n",
    "X_fake = #...\n",
    "y_class = #...\n",
    "\n",
    "plt.scatter(X_train, y_train)\n",
    "plt.plot([x1, x2], [y1, y2], color='r')\n",
    "plt.plot(X_fake, y_class, color='g')\n",
    "plt.xlabel(\"age\")\n",
    "plt.ylabel(\"Probability of AHD\")"
   ]
  },
  {
   "cell_type": "code",
   "execution_count": null,
   "metadata": {},
   "outputs": [],
   "source": [
    "def accuracy(y_pred, y_true):\n",
    "    return #...\n",
    "\n",
    "print(\"Train acc:\", accuracy(y_train, hard_threshold(model.predict(X_train))))\n",
    "print(\"Test acc:\", accuracy(y_test, hard_threshold(model.predict(X_test))))"
   ]
  },
  {
   "cell_type": "markdown",
   "metadata": {},
   "source": [
    "## Logistic Regression - Recap\n",
    "\n",
    "The linear regressor produces < 0 probabilities for some age values; if we were to predict for very young people, we would get probabiltity values smaller than zero!\n",
    "\n",
    "This problem is not unique to the age data. To avoid this problem, **we must model p(X) using a function that gives outputs between 0 and 1 for all values of X**. Many functions meet this description. \n",
    "\n",
    "In logistic regression, we solve the problem by **regressing the logistic function, which is bounded between 0 and 1**. We do this by using the _maximum likelihood_ algorithm (MLE).\n",
    "\n",
    "$p(Y|X)=\\frac{e^{\\beta_{0}+\\beta_{1} X}}{1+e^{\\beta_{0}+\\beta_{1} X}}$\n",
    "\n",
    "This relation may not seem linear at first glance. However, what we require for the model to be linear is that its **decision boundary** is linear. Actually, we just need that a **linear monotone transformation of the posterior probabilities $P(Y|X)$ exists for the model to be linear**.\n",
    "\n",
    "Here, the monotone transformation is the **logit** transformation $log[p/(1-p)]$:\n",
    "$\\quad log\\left( \\frac{P(Y=1|X)}{P(Y=0|X)} \\right) = \\beta_0 + \\beta_1^T X$\n",
    "\n",
    "The **decision  boundary** is the set of point for which the **log-odds** are zero"
   ]
  },
  {
   "cell_type": "code",
   "execution_count": null,
   "metadata": {},
   "outputs": [],
   "source": [
    "from sklearn.linear_model import LogisticRegression             # 1- model selection\n",
    "# Note: look at the hyperparameters with LogisticRegression?\n",
    "model = #...                                                    # 2- hyperparams\n",
    "model.fit(X_train, y_train)                                     # 3- model fitting"
   ]
  },
  {
   "cell_type": "code",
   "execution_count": null,
   "metadata": {},
   "outputs": [],
   "source": [
    "# Print the estimated coefficients\n",
    "print(\"beta0 =\", model.intercept_.squeeze())\n",
    "print(\"beta1 =\", model.coef_.squeeze())"
   ]
  },
  {
   "cell_type": "code",
   "execution_count": null,
   "metadata": {},
   "outputs": [],
   "source": [
    "print(\"Train accuracy:\", accuracy(y_train, model.predict(X_train)))\n",
    "print(\"Test accuracy:\", accuracy(y_test, model.predict(X_test)))"
   ]
  },
  {
   "cell_type": "markdown",
   "metadata": {},
   "source": [
    "### Predicting probabilities and classifying\n",
    "\n",
    "The `predict()` method of scikit-learn classifiers directly predicts the target class, i.e., a integer value from `0` to `C-1` (the total number of classes). If we want to get access to the predicted probability we can do so using the `predict_proba()` function, which returns, for each sample, a vector of probabilities, one for each possible class."
   ]
  },
  {
   "cell_type": "code",
   "execution_count": null,
   "metadata": {},
   "outputs": [],
   "source": [
    "# Predict the CHD probability for being 10 and 70 years old\n",
    "# Use predict_proba to retrieve the predicted probability\n",
    "probas = model.predict_proba([[10], [70]])\n",
    "# Returns P(not CHD|x)=P(0.0|x) and P(CHD|x)=P(1.0|x)\n",
    "p_chd = probas[:, 1]\n",
    "print(\"Probability of AHD for being 10 years old:\", p_chd[0])\n",
    "print(\"Probability of AHD for being 70 years old:\", p_chd[1])"
   ]
  },
  {
   "cell_type": "markdown",
   "metadata": {},
   "source": [
    "### Statistical tests on the coefficients\n",
    "\n",
    "As for Linear Regression, we can perform statistical tests of the model parameters to check if a feature is actually needed. Instead of the t-test, we will use in this case the **Z-test**. \n",
    "\n",
    "**Why the Z-test and not the t-test?**\n",
    "\n",
    "The difference comes down to how the parameters are estimated. \n",
    "- While with linear regression parameters are estimated with the Least Squares procedure (where it can be proved that the difference between $\\beta_i$ and its estimate $\\hat{\\beta}_i$ is distributed as a t-Student),\n",
    "- In logistic regression parameters are obtained through MLE, where we know instead that the difference $\\beta_i$ and its estimate $\\hat{\\beta}_i$ will be **approximately normally distributed with mean 0**.\n",
    "\n",
    "Dividing a normal distribution with mean 0 and standard deviation $\\sigma$ by its standard deviation will yield the standard normal distribution with mean 0 and standard deviation 1:\n",
    "\n",
    "$\\quad Z=\\frac{\\left(\\hat{\\beta}-\\beta_{0}\\right)}{\\widehat{\\operatorname{SE}}(\\hat{\\beta})} \\sim \\mathcal{N}(0,1)$, where $\\beta_0$ is the value under the null hypotesys $\\mathcal{H}_0$ we want to test.\n",
    "\n",
    "$\\widehat{\\operatorname{SE}} = \\sqrt{Cov_{ii}}, \\quad Cov = (X^TVX)^{-1}, \\quad$\n",
    "$\\mathbf{V}=\\left[\\begin{array}{cccc}\n",
    "\\hat{p}_{1}\\left(1-\\hat{p}_{1}\\right) & 0 & \\dots & 0 \\\\\n",
    "0 & \\hat{p}_{2}\\left(1-\\hat{p}_{2}\\right) & \\dots & 0 \\\\\n",
    "\\vdots & \\vdots & \\ddots & \\vdots \\\\\n",
    "0 & 0 & \\dots & \\hat{p}_{n}\\left(1-\\hat{p}_{n}\\right)\n",
    "\\end{array}\\right]$\n",
    "\n",
    "Note: check out the Elements of Statistical Learning book for the derivations of Cov (second order derivative of the likelihood).\n",
    "\n",
    "\n",
    "The test is performed as usual:\n",
    "- we compute the Z score under the null hypothesis\n",
    "- compute the p-value usign the $\\mathcal{N}(0,1)$ distribution\n",
    "- check the p-value against a fixed threshold\n"
   ]
  },
  {
   "cell_type": "code",
   "execution_count": null,
   "metadata": {},
   "outputs": [],
   "source": [
    "from scipy.stats import norm, zscore\n",
    "\n",
    "def z_test(X, y, model, names, alpha=None):\n",
    "    n_samples, n_features = X.shape\n",
    "    deg = n_samples-n_features\n",
    "    betas = np.concatenate([model.intercept_, model.coef_.reshape(-1)])\n",
    "    \n",
    "    # Compute the prediction\n",
    "    pred = model.predict_proba(X) # [N, 2]\n",
    "    y = y.reshape(-1)    \n",
    "    X = np.concatenate([np.ones([X.shape[0], 1]), X], axis=-1)\n",
    "    n_samples, n_features = X.shape\n",
    "    \n",
    "    V = #...\n",
    "    covLogit = #...\n",
    "    se_b = np.sqrt(np.diag(covLogit))\n",
    "    \n",
    "    z_stat_b = #...\n",
    "\n",
    "    # Compute the p-value (two-sided test)\n",
    "    p_values = np.array([2 * norm.sf(np.abs(z_stat)) for z_stat in z_stat_b])\n",
    "    \n",
    "    df = pd.DataFrame()\n",
    "    df[\"Name\"] = names\n",
    "    df[\"Coefficients\"] = betas\n",
    "    df[\"Standard Errors\"] = np.round(se_b, decimals=4)\n",
    "    df[\"Z-stat\"] = np.round(z_stat_b, decimals=1)\n",
    "    df[\"p-value\"] = p_values\n",
    "    if alpha:\n",
    "        rejectH0 = p_values < alpha\n",
    "        df[\"reject H0\"] = rejectH0    \n",
    "    \n",
    "    return df\n",
    "\n",
    "z_test(X_train, y_train, model, [\"Intercept\", \"Age\"], alpha=0.0001)"
   ]
  },
  {
   "cell_type": "markdown",
   "metadata": {},
   "source": [
    "### Plot the linear regressor boundary"
   ]
  },
  {
   "cell_type": "code",
   "execution_count": null,
   "metadata": {},
   "outputs": [],
   "source": [
    "# Plot the linear regressor boundary\n",
    "x_vals = np.linspace(start=0, stop=100, num=100000).reshape(-1,1)\n",
    "y_pred = model.predict(x_vals)\n",
    "\n",
    "# NOTE: predict() in this case returns a binary value (1.0 or 0.0)\n",
    "y_vals = #...\n",
    "print(\"y_vals.shape =\", y_vals.shape)\n",
    "\n",
    "# predict_proba returns two values for each data point, providing\n",
    "# both the P(C0|x) and P(C1|x). We plot the probability of class 1\n",
    "y_c1 = #...\n",
    "\n",
    "plt.scatter(X_train, y_train)\n",
    "plt.plot(x_vals, y_pred, color='g')\n",
    "plt.plot(x_vals, y_c1, color='r')\n",
    "plt.xlabel(\"Age\")\n",
    "plt.ylabel(\"Probability of AHD\")\n",
    "\n",
    "plt.xlim(0,100)"
   ]
  },
  {
   "cell_type": "markdown",
   "metadata": {},
   "source": [
    "### Interpreting the coefficients\n",
    "\n",
    "What is the meaning for the logistic regression?\n",
    "$\\quad log\\left( \\frac{P(Y=1|X)}{1 - P(Y=1|X)} \\right) = \\beta_0 + \\beta_1^T X$\n",
    "\n",
    "- If $\\beta_1 = 0$, there is no relationship between X and Y, as in regression\n",
    "- If $\\beta_1 > 0$, when X gets larger so does the **log-odd**, and hence the probability $P(Y=1|X)$\n",
    "- If $\\beta_1 < 0$, when X gets smaller so does the **log-odd**, and hence the probability $P(Y=1|X)$\n",
    "\n",
    "**What is the meaning of score $\\beta_{age} = 0.064330$ ?**\n",
    "\n",
    "**How much the probability of heart desease increases if we increase age by one year?**\n",
    "\n",
    "$\\quad \\Delta log\\left( \\frac{P(y=1|x_{age})}{1 - P(y=1|x_{age})} \\right) = (\\beta_0 + \\beta_1 x_{age}) - (\\beta_0 + \\beta_1 (x_{age}+1)) = \\beta_1$"
   ]
  },
  {
   "cell_type": "code",
   "execution_count": null,
   "metadata": {},
   "outputs": [],
   "source": [
    "beta_age = model.coef_[0]\n",
    "print(\"1 year of age increases the log odds by:\", ...)\n",
    "print(\"Which means increasing the odds by:\", ...)"
   ]
  },
  {
   "cell_type": "markdown",
   "metadata": {},
   "source": [
    "Interpreting the model parameters is not so straightforward as for linear regression since the parameters don't directly act on the model output (the probability), as in regression, but on the log-odds. Since log-odds are ratio of probabilities, **the actual increase of probability depends on where \"we start from\" on the logit function (i.e., from which age we start from when adding 1)**.\n",
    "\n",
    "- Increasing Age on a region where the logit functon is very flat (i.e., where the probability is near 0 or 1), won't affect too much the output probability\n",
    "- Contrary, the effect will be hiher if we change Age on the central region of the logit, where the function has a linear behavior\n",
    "\n",
    "We can plot this behaviour by inspecting how the difference $P(y|x_{age}+1) - P(y|x_{age})$ changes as a function of the starting point $x_{age}$"
   ]
  },
  {
   "cell_type": "code",
   "execution_count": null,
   "metadata": {
    "scrolled": true
   },
   "outputs": [],
   "source": [
    "X_age = np.arange(0, 100).reshape(-1, 1)\n",
    "proba_age = #...\n",
    "proba_age1 = #...\n",
    "incr = (proba_age1 - proba_age)\n",
    "\n",
    "plt.plot(X_age, incr)\n",
    "plt.xlabel(\"Age\")\n",
    "plt.ylabel(\"P(Y=1|X) increase\")"
   ]
  },
  {
   "cell_type": "markdown",
   "metadata": {},
   "source": [
    "## Multiple Logistic Regression \n",
    "\n",
    "Notice, this must not be confused with the multi class case, where logistic regression is defined by a set of K-1 different log-odds transformations. We are still in the binary classification case but we use multiple features for predicting the class. Derivations and the learning mechanism is the same as before!"
   ]
  },
  {
   "cell_type": "code",
   "execution_count": null,
   "metadata": {},
   "outputs": [],
   "source": [
    "# Train a logistic regressor that uses all features\n",
    "X_full_feat = ['sbp', 'tobacco', 'ldl', 'famhist', 'obesity', 'alcohol', 'age']\n",
    "#X_feat = ['tobacco', 'ldl', 'famhist', 'age']\n",
    "X_full = pd_data[X_full_feat]\n",
    "X_full_train, X_full_test, y_train, y_test = train_test_split(X_full, y,\n",
    "                                                    test_size=split_test_size, \n",
    "                                                    random_state=split_seed)"
   ]
  },
  {
   "cell_type": "code",
   "execution_count": null,
   "metadata": {
    "scrolled": true
   },
   "outputs": [],
   "source": [
    "from sklearn.linear_model import LogisticRegression            # 1- model selection\n",
    "model = LogisticRegression(solver=\"newton-cg\", penalty='none') # 2- hyperparams\n",
    "model.fit(X_full_train, y_train)                               # 3- model fitting\n",
    "y_predict = model.predict(X_full_train)                        # 4- model testing\n",
    "\n",
    "print(\"Train accuracy:\", accuracy(y_train, model.predict(X_full_train)))\n",
    "print(\"Test accuracy:\", accuracy(y_test, model.predict(X_full_test)))"
   ]
  },
  {
   "cell_type": "code",
   "execution_count": null,
   "metadata": {},
   "outputs": [],
   "source": [
    "# Perform a z-test on all features\n",
    "z_test(X_full_train, y_train, model, [\"Intercept\", *X_full_feat], alpha=0.005)"
   ]
  },
  {
   "cell_type": "markdown",
   "metadata": {},
   "source": [
    "### Feature Selection\n",
    "\n",
    "Forward, backward and best subset selection can all be applied also to classification. *In this case we don't have adjusted metrics that are theoretically proven to resamble the actual test metric (as BIC, CP and so on for regression).* We will use the validation or cross validation accuracy (or classification error) to decide which is the best number of features to select (i.e., step 3 of the algorithm), while the train accuracy/error for selecting the candidates (step 2).\n",
    "\n",
    "The following is the same code we developed in the previous lab, where the only difference in that we are creating a LogisticRegression object instead of a LinearRegression module. \n",
    "\n",
    "Python exercise: can you generalize the function to train any model by adding arguments?"
   ]
  },
  {
   "cell_type": "code",
   "execution_count": null,
   "metadata": {},
   "outputs": [],
   "source": [
    "# ===================================\n",
    "#   Code from Lab03.01 - 05/05/2021\n",
    "# 03.01.ScikitFeaturesSelection.ipynb\n",
    "# ===================================\n",
    "\n",
    "from sklearn.dummy import DummyRegressor\n",
    "from sklearn.model_selection import cross_val_score\n",
    "from sklearn.metrics import make_scorer\n",
    "\n",
    "def get_evaluator(scorer):\n",
    "    def evaluator(model, X, y, trained=False):\n",
    "        if not trained:\n",
    "            model = model.fit(X, y)\n",
    "        score = scorer(model, X, y)\n",
    "        return model, score\n",
    "    return evaluator   \n",
    "\n",
    "def get_cv_evaluator(scorer, cv=3):\n",
    "    def evaluator(model, X, y, trained=False):            \n",
    "        scores = cross_val_score(model, X, y, scoring=scorer, cv=cv)\n",
    "        if not trained:\n",
    "            model = model.fit(X, y)\n",
    "        return model, np.mean(scores)\n",
    "    \n",
    "    return evaluator\n",
    "\n",
    "def get_val_evaluator(scorer, val_size=0.1):\n",
    "    def evaluator(model, X, y, trained=False):\n",
    "        X_train_small, X_val, y_train_small, y_val = train_test_split(X, y, \n",
    "                                                                      test_size=val_size,\n",
    "                                                                      random_state=0)\n",
    "        \n",
    "        if not trained:\n",
    "            model = model.fit(X_train_small, y_train_small)\n",
    "        score = scorer(model, X_val, y_val) \n",
    "        \n",
    "        return model, score\n",
    "    \n",
    "    return evaluator\n",
    "\n",
    "def forward_selection(Xtrain_pd, ytrain, Xtest_pd, ytest,\n",
    "                      candidates_evaluator, candidates_argbest, # Metric to be used at 2.b\n",
    "                      subsets_evaluator, subsets_argbest,       # Metric to be used at 3\n",
    "                      test_evaluator=None, test_argbest=None,\n",
    "                      candidates_scorer_name=None,  # Name of 2. figure\n",
    "                      subsets_scorer_name=None,     # Name of 3. figure\n",
    "                      verbose=True, weight_step3=0):   \n",
    "    test_evaluator = subsets_evaluator if not test_evaluator else test_evaluator\n",
    "    test_argbest = subsets_argbest if not test_argbest else test_argbest\n",
    "    \n",
    "    # Global variable init\n",
    "    # ====================\n",
    "    num_features = Xtrain_pd.shape[-1]\n",
    "    best_candidate_metric = []\n",
    "    # subsets_* are lists containing one value for each Mk model (the best of the Mk candidates)\n",
    "    subsets_test = []\n",
    "    subsets_metric = []        # The best metric of each subset of dimension 'dim'\n",
    "    subsets_best_features = [] # The best features combination in each subset of dimension 'dim'\n",
    "    # A figure to keep track of candidates scores in each Mk subset\n",
    "    plt.figure()\n",
    "    candidate_fig = plt.subplot(111) # A global matplotlib figure\n",
    "    num_evaluations = 0        # A conter to keep track of the total number of trials\n",
    "    \n",
    "    selected_features = []\n",
    "    all_features = Xtrain_pd.columns\n",
    "    \n",
    "    \n",
    "    # 1. Train M0\n",
    "    # ===========\n",
    "    model = DummyRegressor()\n",
    "    # Compute (2.b) metrics\n",
    "    model, score = candidates_evaluator(model, Xtrain_pd[[]], ytrain)\n",
    "    best_candidate_metric.append(score)\n",
    "    subsets_best_features.append([])\n",
    "    _ = candidate_fig.scatter([0], [score], color=\"b\")\n",
    "    # Compute metric for step 3.\n",
    "    _, score = subsets_evaluator(model, Xtrain_pd[[]], ytrain, trained=True)\n",
    "    subsets_metric.append(score)\n",
    "    _, score = test_evaluator(model, Xtrain_pd[[]], ytrain, trained=True)\n",
    "    subsets_test.append(score)\n",
    "    \n",
    "    # 2. Evaluate all Mk candidates with\n",
    "    #    k=0...P features\n",
    "    # =========================================\n",
    "    for dim in range(len(all_features)):\n",
    "        candidate_metrics = [] # Keep track of candidates metrics. Will be used to select the best\n",
    "        candidate_models = []  # Keep track of candidates trained models\n",
    "        \n",
    "        # 2.a Fixed the number of features 'dim', look at\n",
    "        #     all the possible candidate models with that\n",
    "        #     cardinality\n",
    "        # ===============================================\n",
    "        remaining_features = all_features.difference(selected_features)\n",
    "        \n",
    "        for new_column in remaining_features:\n",
    "            Xtrain_sub = Xtrain_pd[selected_features+[new_column]].to_numpy()\n",
    "            # //==========================================\\\\\n",
    "            # || ***** Difference from previous lab ***** ||\n",
    "            # \\\\==========================================//\n",
    "            model = LogisticRegression(solver=\"newton-cg\", penalty='none')\n",
    "            model, score = candidates_evaluator(model, Xtrain_sub, ytrain)\n",
    "            candidate_models.append(model)\n",
    "            candidate_metrics.append(score)\n",
    "            num_evaluations += 1\n",
    "            \n",
    "        _ = candidate_fig.scatter([Xtrain_sub.shape[-1]]*len(candidate_metrics), candidate_metrics,\n",
    "                                  color=\"b\")\n",
    "            \n",
    "        # 2.b Select the best candidate among those using\n",
    "        #     the same number of features (2.a)\n",
    "        # ===============================================\n",
    "        idx_best_candidate = candidates_argbest(candidate_metrics)\n",
    "        # Update selected feature\n",
    "        selected_features.append(remaining_features[idx_best_candidate])\n",
    "        # Save best candidate features\n",
    "        best_candidate_metric.append(candidate_metrics[idx_best_candidate])\n",
    "        best_features = selected_features.copy()\n",
    "        subsets_best_features.append(best_features)\n",
    "        \n",
    "        \n",
    "        # Compute metric for step 3.\n",
    "        best_subset_model = candidate_models[idx_best_candidate]\n",
    "        best_subset_Xtrain = Xtrain_pd[best_features].to_numpy()\n",
    "        best_subset_Xtest = Xtest_pd[best_features].to_numpy()\n",
    "        _, score = test_evaluator(best_subset_model, best_subset_Xtest, ytest, trained=True)\n",
    "        subsets_test.append(score)\n",
    "        _, score = subsets_evaluator(best_subset_model, best_subset_Xtrain, ytrain, trained=True)\n",
    "        subsets_metric.append(score)\n",
    "        num_evaluations += weight_step3 \n",
    "        \n",
    "        if verbose:\n",
    "            print(\"............\")\n",
    "            print(\"Best model (M{}) with {} features: {}\".format(dim+1, dim+1, best_features))\n",
    "            print(\"M{} subset score (3.): {}\".format(dim+1, score))\n",
    "        \n",
    "    # 3. Among all best candidates with increasing number\n",
    "    #    of features, select the best one\n",
    "    # ===================================================\n",
    "    best_subset_idx = subsets_argbest(subsets_metric)\n",
    "    best_features = subsets_best_features[best_subset_idx]\n",
    "    \n",
    "    if verbose:\n",
    "        print(\"\\n\\nBest configuration has {} features\".format(best_subset_idx))\n",
    "        print(\"Features: {}\".format(subsets_best_features[best_subset_idx]))\n",
    "        print(\"Total number of trained models:\", num_evaluations)\n",
    "    \n",
    "    # Complete the subsets_fig figure by plotting\n",
    "    # a line connecting all best candidate score\n",
    "    best_candidate_score_idx = candidates_argbest(best_candidate_metric)\n",
    "    _ = candidate_fig.plot(range(len(best_candidate_metric)), best_candidate_metric)\n",
    "    _ = candidate_fig.scatter(best_candidate_score_idx, best_candidate_metric[best_candidate_score_idx],\n",
    "                              marker='X', label=\"Best\", color=\"r\")\n",
    "    candidate_fig.set_title(candidates_scorer_name)\n",
    "    candidate_fig.legend()\n",
    "    \n",
    "    # Plot a figure to show how te 3. metric evolves\n",
    "    plt.figure()\n",
    "    subsets_fig = plt.subplot(111)\n",
    "    _ = subsets_fig.plot(range(len(subsets_metric)), subsets_metric, label=\"Selection (3.) scores\")\n",
    "    _ = subsets_fig.scatter(best_subset_idx, subsets_metric[best_subset_idx],\n",
    "                              marker='X', label=\"Best (3.) score\", color=\"r\")\n",
    "    best_test_score_idx = test_argbest(subsets_test)\n",
    "    _ = subsets_fig.plot(range(len(subsets_test)), subsets_test, label=\"Test scores\")\n",
    "    _ = subsets_fig.scatter(best_test_score_idx, subsets_test[best_test_score_idx],\n",
    "                              marker='X', label=\"Best test score\", color=\"y\")\n",
    "    subsets_fig.set_title(subsets_scorer_name)\n",
    "    subsets_fig.legend()"
   ]
  },
  {
   "cell_type": "code",
   "execution_count": null,
   "metadata": {},
   "outputs": [],
   "source": [
    "cv = 10\n",
    "forward_selection(X_full_train, y_train, X_full_test, y_test,\n",
    "                  ..., ..., # 2.\n",
    "                  ..., ..., # 3.\n",
    "                  ..., ..., # test\n",
    "                  candidates_scorer_name=\"Accuracy\",\n",
    "                  subsets_scorer_name=\"Accuracy (CV)\",\n",
    "                  verbose=True, weight_step3=cv)"
   ]
  },
  {
   "cell_type": "markdown",
   "metadata": {},
   "source": [
    "We obtain results that are similar to those obtained with statistical tests. Notice that this is not always the case with complex datasets, since the two methods rely on very different assumptions. We generally expect features with strong statistical tests rejection (very low p-value) to be selected first in forward feature selection compared to other ones, as it is the case of the Age and Famhist features!"
   ]
  },
  {
   "cell_type": "markdown",
   "metadata": {},
   "source": [
    "## Feature selection with Lasso"
   ]
  },
  {
   "cell_type": "markdown",
   "metadata": {},
   "source": [
    "As for linear regression, we can compute a \"Lasso\" version of the objective function that has to be minimized, by adding an L1-norm term. The effect is very similar, and, as the $\\lambda$ parameters increases, will promote training of models having **sparse** parameters, i.e., where some parameters are very close to zero. \n",
    "\n",
    "This shrinkage effect can be used for feature selection. By gradually increasing the $\\lambda$ parameter (i.e., increasing the sparsity of the model), the parameters that go to zero first will likely be the least important ones.\n",
    "\n",
    "The `LogisticRegression` module in scikit-learn has an extra `penality` term which, if set to `'l1'`, will introduce a Lasso term in the loss. The `C` argument controls the lambda parameter in the loss (defined as the opposite of lambda): smaller values specify stronger regularization.\n",
    "\n",
    "Note: L1-norm regularization is not available for all the solvers. The `newton-cg` solver that we used in previous examples (that is explained in the ESL book) does not support this penalty. We will use the `saga` one for this purpose (which is a variant of SAG, Stochastic Average Gradient).\n",
    "\n",
    "Notice: to ensure parameters are within the same ranges for different lambda values, we first *normalize the data to have 0 mean and unitary standard deviation*. This does not affect the accuracy for logistic regression, but may do so for other algorithms as we will see later in this notebook."
   ]
  },
  {
   "cell_type": "code",
   "execution_count": null,
   "metadata": {},
   "outputs": [],
   "source": [
    "C_vals = np.linspace(1e-4, 0.3, 100)\n",
    "betas = []\n",
    "\n",
    "from sklearn import preprocessing\n",
    "X_std = preprocessing.scale(X_full_train)\n",
    "\n",
    "for C in C_vals:\n",
    "    model = #...\n",
    "    model.fit(X_std, y_train)\n",
    "    beta = ...\n",
    "    betas.append(beta)\n",
    "betas = np.stack(betas, axis=1)  # [Nfeat, NCvals]\n",
    "\n",
    "for beta, name in zip(betas, X_full_feat):\n",
    "    plt.plot(C_vals, beta, label=name)\n",
    "plt.legend()\n",
    "plt.xlabel(\"C=1/lambda\")\n",
    "plt.ylabel(\"beta\")"
   ]
  },
  {
   "cell_type": "markdown",
   "metadata": {},
   "source": [
    "If we read the graph from left to right, that is, from very high regularization (left) to low regularization (right), we see a behaviour similar to the one observed with forward feature selection. \n",
    "\n",
    "- The last feature to disappear is Age, so we can think of that feature as the most important one for prediction, with famhist and ldl following.\n",
    "- The first one to go to zero, instead, is alcohol, which was also the last being added to forward feature selection, and the one having the largest p-value in statistical Z-tests!"
   ]
  },
  {
   "attachments": {
    "immagine.png": {
     "image/png": "[encoded data removed]"
    }
   },
   "cell_type": "markdown",
   "metadata": {},
   "source": [
    "# Linear Discriminant Analysis\n",
    "\n",
    "LDA is based on a similar concept of Logistic Regression, that is to model posterior probabilities as a **linear function of $x$**. However, the relation is found through the Bayes Theorem instead of the logistic function.\n",
    "\n",
    "$P(Y=k|X) = \\frac{P(X|Y=k) P(Y=k)}{P(X)} = \\frac{P(X|Y=k) P(Y=k)}{\\sum_{i=1}^{K}P(X|Y=k) P(Y=i)}$,\n",
    "\n",
    "where $P(Y=k)$ is a prior and such that $\\sum_{i=1}^{K}P(Y=i) = 1$\n",
    "\n",
    "**LDA assumes** that:\n",
    "- the density functions P(X|Y=k) of X in class K are distributed as a multivariate Gaussian \n",
    "![immagine.png](attachment:immagine.png)\n",
    "- the classes have a common covariance matrix $\\Sigma$ (we have one multivariate gaussian distribution for each class $k$, all having the same covariance $\\Sigma_k = \\Sigma \\quad\\forall k$)\n",
    "\n",
    "These assumptions allows us, while computing the log-odds, to make some semplifications (getting rid of quadratic terms) and find a **linear transformation of $x$**!\n",
    "\n",
    "$\\log \\frac{\\operatorname{P}(Y=k|X)}{\\operatorname{P}(Y=l| X)}=\n",
    "\\log \\frac{P(Y=k)}{P(Y=l)}-\\frac{1}{2}\\left(\\mu_{k}+\\mu_{\\ell}\\right)^{T} \\boldsymbol{\\Sigma}^{-1}\\left(\\mu_{k}-\\mu_{\\ell}\\right) \n",
    "+x^{T} \\boldsymbol{\\Sigma}^{-1}\\left(\\mu_{k}-\\mu_{\\ell}\\right)$"
   ]
  },
  {
   "cell_type": "code",
   "execution_count": null,
   "metadata": {},
   "outputs": [],
   "source": [
    "from sklearn.discriminant_analysis import LinearDiscriminantAnalysis as LDA\n",
    "model = #...\n",
    "model = model.fit(X_train, y_train)\n",
    "\n",
    "print(\"Train accuracy:\", accuracy(y_train, model.predict(X_train)))\n",
    "print(\"Test accuracy:\", accuracy(y_test, model.predict(X_test)))"
   ]
  },
  {
   "cell_type": "code",
   "execution_count": null,
   "metadata": {},
   "outputs": [],
   "source": [
    "X_feat = ['typea', 'age']\n",
    "X = pd_data[X_feat]\n",
    "X_train, X_test, y_train, y_test = train_test_split(X, y,\n",
    "                                                    test_size=split_test_size, \n",
    "                                                    random_state=split_seed)\n",
    "\n",
    "# Note: remembder to set store_covariance=True so that\n",
    "#   we can the retrieve the learned covariance using model.covariance_\n",
    "model = #...\n",
    "model = model.fit(X_train, y_train)\n",
    "\n",
    "print(\"Train accuracy:\", accuracy(y_train, model.predict(X_train)))\n",
    "print(\"Test accuracy:\", accuracy(y_test, model.predict(X_test)))"
   ]
  },
  {
   "cell_type": "markdown",
   "metadata": {},
   "source": [
    "The **boundaries** of the classes are the values of $x$ that make the log-odds equal to 0.\n",
    "\n",
    "If we have multiple classes we will have multiple boundaries, one for each pair of classes (indeed as many log-odds rations as we have in the previous definition, look at the $i$ and $k$ indices, it is not just one, and the same was for logistic regression!)"
   ]
  },
  {
   "attachments": {
    "immagine.png": {
     "image/png": "[encoded data removed]"
    }
   },
   "cell_type": "markdown",
   "metadata": {},
   "source": [
    "![immagine.png](attachment:immagine.png)\n",
    "\n",
    "We can plot the distributions using **confidence ellipses**, which may be seen as being obtained by cutting the 3D bell shape of the gaussian with an horizontal plane, and which represent a sort of confidence interval of values. A **95% confidence ellipses** defines the region that contains 95% of all samples that can be drawn from the underlying Gaussian distribution.\n",
    "\n",
    "- If the distribution is **axis-aligned** (covariance has values only on the diagonal), the ellipses is easy to determine since it is fully defined by the variance. The standard deviation, indeed, (squared root of the values on the covariance diagonal ) define indeed the length of the ellipses in both directions.\n",
    "- If the ellipses is not **axis-aligned** we may think to **first align** it to the axis to compute the variance, and **then to rotate** it back. The align transformation can be obtained by computing the **eigenvectors** and **eigenvalues** of the covariance matrix. **Eigenvector** define the direction while **eigenvalues** the lenght of the \"new axis\"."
   ]
  },
  {
   "cell_type": "code",
   "execution_count": null,
   "metadata": {},
   "outputs": [],
   "source": [
    "from math import atan, degrees\n",
    "from matplotlib import colors\n",
    "from matplotlib.pyplot import cm\n",
    "import matplotlib.patches as mpatches\n",
    "\n",
    "def plot_gaussian(model, mu, covar, x, y=None, n_stdev_bands=2):\n",
    "    if not isinstance(x, np.ndarray):\n",
    "        x = np.array(x)\n",
    "    if covar.ndim == 2:\n",
    "        covar = np.repeat(covar[None], mu.shape[0], axis=0)\n",
    "        \n",
    "    # Confidence Ellipses\n",
    "    # ===================\n",
    "    \n",
    "    ax = plt.subplot(111, aspect='equal')\n",
    "    legend = []\n",
    "    # We plot the distributions only if we are\n",
    "    # using just 2 features (see next section)\n",
    "    if mu.shape[-1] == 2:\n",
    "        # 1- Compute the rotation and the variance \n",
    "        #    in the new rotated coordinate system\n",
    "        # ========================================\n",
    "        variance, transforms = np.linalg.eigh(covar)\n",
    "        # 2- Compute the standard deviations\n",
    "        # ==================================\n",
    "        stdev = #...\n",
    "        \n",
    "        max_x, min_x, max_y, min_y = 0.0, 0.0, 0.0, 0.0\n",
    "        cmap = cm.rainbow(np.linspace(0, 1, mu.shape[0]))\n",
    "        for mean, stdev, transform, color in zip(mu, stdev, transforms, cmap):\n",
    "            # We collect some labels to print in the legend\n",
    "            legend += [mpatches.Patch(color=color,\n",
    "                                      label=f'mu {mean[0]:.2f}, {mean[1]:.2f} '\n",
    "                                      f'sigma {stdev[0]:.2f} {stdev[1]:.2f}')]\n",
    "            # We compute several confidence ellipses\n",
    "            # multiple of the standard deviation\n",
    "            for j in range(1, n_stdev_bands + 1):\n",
    "                # 3- Plot the ellipses\n",
    "                # ==================================\n",
    "                ell = mpatches.Ellipse(xy=(..., ...), # The center position (xc, yc)\n",
    "                                       # The width and height:\n",
    "                                       # axis-aligned standard deviation (multiple of 2*j)\n",
    "                                       width=..., height=...,\n",
    "                                       # The rotation angle degree(atan(v1/v0))\n",
    "                                       angle=degrees(...),\n",
    "                                       # Color properties and transparency\n",
    "                                       alpha=1.0, edgecolor=color, fc='none')\n",
    "                ax.add_artist(ell)\n",
    "                # Compute the picture size based on how many bands\n",
    "                # we plotted\n",
    "                max_x = max(max_x, mean[0] + stdev[0] * j * 1.5)\n",
    "                max_y = max(max_y, mean[1] + stdev[1] * j * 1.5)\n",
    "                min_x = min(min_x, mean[0] - stdev[0] * j * 1.5)\n",
    "                min_y = min(min_y, mean[1] - stdev[1] * j * 1.5)\n",
    "    else:\n",
    "        # Otherwise just compute the plot boundaries\n",
    "        max_x, min_x = x[:, 0].max()+x[:, 0].ptp()/2, x[:, 0].min()-x[:, 0].ptp()/2\n",
    "        max_y, min_y = x[:, 1].max()+x[:, 1].ptp()/2, x[:, 1].min()-x[:, 1].ptp()/2\n",
    "        \n",
    "    # Boundaries \n",
    "    # ==========\n",
    "    # A part from the actual boundary, we also want to\n",
    "    # color the space regions with the same color as the\n",
    "    # predicted class!\n",
    "    # Given the picture size x \\in [min_x, max_x], y \\in [min_y, max_y]\n",
    "    # we sample the space at regular intervals and create a fake dataset\n",
    "    # with features that cover all the space.\n",
    "    # The meshgrid function takes two array (a ruler on the two axis),\n",
    "    # combine them and return two matrices of shape [y_size, x_size]\n",
    "    # containing all the x coordinates (the first) and all the y coordinates\n",
    "    xx, yy = np.meshgrid(np.linspace(min_x, max_x, 1000),\n",
    "                         np.linspace(min_y, max_y, 1000))\n",
    "    # xx.shape = [1000, 1000], yy.shape = [1000,1000]\n",
    "    # Merge the features and convert in the usual [Nsample, Nfeatures] shape\n",
    "    X_fake = #...\n",
    "    # Predict the probability\n",
    "    Z = #..\n",
    "    # And convert values back into a 2D grid for visualization\n",
    "    Z = #...\n",
    "    \n",
    "    cmap_light = colors.ListedColormap(['#AAAAFF', '#FFAAAA'])\n",
    "    cmap_solid = colors.ListedColormap(['#0000FF', '#FF0000'])\n",
    "    # Color the background: pcolormesh colors the background using\n",
    "    # the grid coordinates and the predicted probability as color\n",
    "    # eventually filling gaps\n",
    "    plt.pcolormesh(xx, yy, Z, cmap=cmap_light, norm=colors.Normalize(0., 1.))\n",
    "    # We also plot the contour where the color changes with a grey line\n",
    "    plt.contour(xx, yy, Z, [0.5], colors='grey')\n",
    "    # Plot the point\n",
    "    plt.scatter(x[:, 0], x[:, 1], c=y, cmap=cmap_solid)\n",
    "    ax.set_xlim(min_x, max_x)\n",
    "    ax.set_ylim(min_y, max_y)\n",
    "    plt.gca().set_aspect('equal', adjustable='box')\n",
    "    if legend:\n",
    "        plt.legend(handles=legend)\n",
    "\n",
    "    plt.show()"
   ]
  },
  {
   "cell_type": "code",
   "execution_count": null,
   "metadata": {},
   "outputs": [],
   "source": [
    "plot_gaussian(...)"
   ]
  },
  {
   "cell_type": "markdown",
   "metadata": {},
   "source": [
    "As expected, we obtain:\n",
    "- two ellipses having *the same size and orientation*, i.e., the same covariance matrix\n",
    "- a straight decision boundary\n",
    "\n",
    "## LDA with polynomial features\n",
    "\n",
    "In the previous lab session we saw that we can obtain a quadratic (or polynomial) boundary in the input feature space by projecting the features into a higher dimensiona space by converting features into polynomial ones. \n",
    "\n",
    "In the polynomial space, the boundary would still be linear, but it will look (and actually be) polynomial if projected back into the original input space. This procedure, as you will see, is sometimes called kernel trick.\n",
    "\n",
    "Let's try to use quadratic polynomial features and plot the decision boundary!"
   ]
  },
  {
   "cell_type": "code",
   "execution_count": null,
   "metadata": {},
   "outputs": [],
   "source": [
    "from sklearn.pipeline import Pipeline\n",
    "from sklearn.preprocessing import PolynomialFeatures\n",
    "\n",
    "model = Pipeline([\n",
    "    ('poly', ...),\n",
    "    ('lda', LDA(store_covariance=True))])\n",
    "model = model.fit(X_train, y_train)\n",
    "\n",
    "print(\"Train accuracy:\", accuracy(y_train, model.predict(X_train)))\n",
    "print(\"Test accuracy:\", accuracy(y_test, model.predict(X_test)))"
   ]
  },
  {
   "cell_type": "code",
   "execution_count": null,
   "metadata": {
    "scrolled": true
   },
   "outputs": [],
   "source": [
    "lda_model = model.steps[-1][-1]\n",
    "plot_gaussian(model, ..., ..., X_train, y=y_train)"
   ]
  },
  {
   "cell_type": "markdown",
   "metadata": {},
   "source": [
    "### What is the best degree?\n",
    "\n",
    "As usual, if we are interested in finding the optimal hyper-parameter for an agorithm we can resort to cross-validation and gridsearch. Let's try."
   ]
  },
  {
   "cell_type": "code",
   "execution_count": null,
   "metadata": {},
   "outputs": [],
   "source": [
    "from sklearn.model_selection import GridSearchCV\n",
    "\n",
    "model = Pipeline([('poly', PolynomialFeatures()),\n",
    "                  ('lda', LDA(store_covariance=True))])\n",
    "params = {'poly__degree': range(1, 6)}\n",
    "cv = GridSearchCV(model, params, refit=True, cv=10, \n",
    "                  scoring=make_scorer(accuracy))\n",
    "cv.fit(X_full_train, y_train)"
   ]
  },
  {
   "cell_type": "code",
   "execution_count": null,
   "metadata": {},
   "outputs": [],
   "source": [
    "cv.best_params_\n",
    "cv.best_score_\n",
    "pd.DataFrame(cv.cv_results_)"
   ]
  },
  {
   "cell_type": "code",
   "execution_count": null,
   "metadata": {},
   "outputs": [],
   "source": [
    "def show_results(cv, X_test, params, prefix=''):\n",
    "    prefix = ' '+prefix    \n",
    "    results = pd.DataFrame(cv.cv_results_)\n",
    "    # Plot the CV (mean) scores for all possible parameters\n",
    "    plt.plot(..., ..., label=prefix)\n",
    "\n",
    "    # Find the best\n",
    "    best_idx = #...\n",
    "    # Plot it as a cross\n",
    "    plt.plot(..., ..., marker='X')\n",
    "    plt.legend()\n",
    "\n",
    "    print(prefix, f\"(best {results[params][best_idx]}) CV accuracy:\",  cv.best_score_)\n",
    "    print(prefix, f\"(best {results[params][best_idx]}) Test accuracy:\", accuracy(y_test, cv.best_estimator_.predict(X_test)))\n",
    "    \n",
    "show_results(cv, X_full_test, 'param_poly__degree')"
   ]
  },
  {
   "cell_type": "markdown",
   "metadata": {},
   "source": [
    "## Quadratic Discriminant Analysis\n",
    "\n",
    "If in LDA we **remove the assumption** that density functions (multivariate gaussians distributions) must have the same covariance matrix, then we obtain a quadratic relation.\n",
    "\n",
    "This is simply due to the fact that we cannot simpify terms while computing the boundary as we did for LDA."
   ]
  },
  {
   "cell_type": "code",
   "execution_count": null,
   "metadata": {},
   "outputs": [],
   "source": [
    "from sklearn.discriminant_analysis import QuadraticDiscriminantAnalysis as QDA\n",
    "model = QDA(...- The two gaussians have different sizes and orientations, suggesting a different covariance matrix\n",
    "- We obtain a curve that is very similar to the one we obtained with LDA and quadratic features. Notice that here we obtain an **hyperbola**, which is still a quadratic shape!- The two gaussians have different sizes and orientations, suggesting a different covariance matrix\n",
    "- We obtain a curve that is very similar to the one we obtained with LDA and quadratic features. Notice that here we obtain an **hyperbola**, which is still a quadratic shape!)\n",
    "model = model.fit(X_train, y_train)\n",
    "\n",
    "print(\"Train accuracy:\", accuracy(y_train, model.predict(X_train)))\n",
    "print(\"Test accuracy:\", accuracy(y_test, model.predict(X_test)))\n",
    "\n",
    "plot_gaussian(model, model.means_, np.stack(model.covariance_, axis=0), X_train, y_train, 2)"
   ]
  },
  {
   "cell_type": "markdown",
   "metadata": {},
   "source": [
    "- The two gaussians have different sizes and orientations, suggesting a different covariance matrix\n",
    "- We obtain a curve that is very similar to the one we obtained with LDA and quadratic features. Notice that here we obtain an **hyperbola**, which is still a quadratic shape!"
   ]
  },
  {
   "cell_type": "markdown",
   "metadata": {},
   "source": [
    "## K-Nearest Neighbors\n",
    "\n",
    "KNN is a non-parametric model. The algorithm is very simple:\n",
    "- the training phase only consists in storing the training dataset\n",
    "- at prediction, given a query point to classify, we identify the k closes training points and predict as class the most frequent class among the selected neighbors."
   ]
  },
  {
   "cell_type": "code",
   "execution_count": null,
   "metadata": {},
   "outputs": [],
   "source": [
    "# Train a KNN with different k values\n",
    "from sklearn.neighbors import KNeighborsClassifier\n",
    "model = KNeighborsClassifier(...)\n",
    "model.fit(X_train, y_train)\n",
    "\n",
    "print(\"Train accuracy:\", accuracy(y_train, model.predict(X_train)))\n",
    "print(\"Test accuracy:\", accuracy(y_test, model.predict(X_test)))"
   ]
  },
  {
   "cell_type": "markdown",
   "metadata": {},
   "source": [
    "**Why is the train accuracy not 100% even if neighbors=1?**"
   ]
  },
  {
   "cell_type": "code",
   "execution_count": null,
   "metadata": {},
   "outputs": [],
   "source": [
    "# Select the trainpoints where prediction is wrong\n",
    "X_train[...]"
   ]
  },
  {
   "cell_type": "code",
   "execution_count": null,
   "metadata": {},
   "outputs": [],
   "source": [
    "X_tmp = X_train.to_numpy()\n",
    "# Select one particular miss-predicted point\n",
    "mask = #...\n",
    "print(X_train[mask])\n",
    "print(y_train[mask])"
   ]
  },
  {
   "cell_type": "code",
   "execution_count": null,
   "metadata": {
    "scrolled": true
   },
   "outputs": [],
   "source": [
    "# Show all duplicate values\n",
    "X_train[X_train.duplicated()]"
   ]
  },
  {
   "cell_type": "code",
   "execution_count": null,
   "metadata": {},
   "outputs": [],
   "source": [
    "# Compute a mask of unique samples\n",
    "# NOTE: we will use the mask of correctly predicted samples\n",
    "#  to compute the mask, but this is not the correct way of\n",
    "#  doing so. You can check however that in this case the \n",
    "unique_mask = #...\n",
    "X_train_unique = X_train[unique_mask]\n",
    "y_train_unique = y_train[unique_mask]\n",
    "\n",
    "model = KNeighborsClassifier(n_neighbors=1)\n",
    "model.fit(X_train_unique, y_train_unique)\n",
    "\n",
    "print(\"Train accuracy:\", accuracy(y_train_unique, model.predict(X_train_unique)))\n",
    "print(\"Test accuracy:\", accuracy(y_test, model.predict(X_test)))"
   ]
  },
  {
   "cell_type": "markdown",
   "metadata": {},
   "source": [
    "### Visualize the decision boundary"
   ]
  },
  {
   "cell_type": "code",
   "execution_count": null,
   "metadata": {},
   "outputs": [],
   "source": [
    "from matplotlib.colors import ListedColormap\n",
    "\n",
    "def show_boundary(model, X, y=None):\n",
    "    if not isinstance(X, np.ndarray):\n",
    "        X = np.array(X)\n",
    "    \n",
    "    # Plot the decision boundary. For that, we will assign a color to each\n",
    "    # point in the mesh [x_min, x_max]x[y_min, y_max].\n",
    "    # Note: we add a small margin (of 1) around the min and max\n",
    "    max_x, min_x = X[:, 0].max()+X[:, 0].ptp()/3, X[:, 0].min()-X[:, 0].ptp()/3\n",
    "    max_y, min_y = X[:, 1].max()+X[:, 1].ptp()/3, X[:, 1].min()-X[:, 1].ptp()/3\n",
    "    # Create a fake dataset to evaluate the KNN output in each\n",
    "    # point of the 2D space\n",
    "    # 1- Create a grid of coordinates\n",
    "    xx, yy = np.meshgrid(np.linspace(min_x, max_x, 300),\n",
    "                         np.linspace(min_y, max_y, 300))\n",
    "\n",
    "    # 2- Stack the coordinates to create a fake dataset to evaluate\n",
    "    X_grid= np.stack([xx.reshape(-1), yy.reshape(-1)], axis=-1)\n",
    "    # 3- Predict the KNN output in each point\n",
    "    predict_grid = model.predict(X_grid)\n",
    "\n",
    "    # 3- Put the result into a color plot\n",
    "    predict_grid = predict_grid.reshape(xx.shape)\n",
    "    plt.figure()\n",
    "    # Create a color map associating colors to labels\n",
    "    cmap_light = ListedColormap(['#AAAAFF', '#FFAAAA'])\n",
    "    cmap_solid = ListedColormap(['#0000FF', '#FF0000'])\n",
    "    plt.pcolormesh(xx, yy, predict_grid,\n",
    "                   cmap=cmap_light, norm=colors.Normalize(0., 1.))\n",
    "    plt.contour(xx, yy, predict_grid, [0.5], colors='grey')\n",
    "    plt.scatter(X[:, 0], X[:, 1], c=y, cmap=cmap_solid)\n",
    "    \n",
    "    # plt.xlim(50,70)\n",
    "    # plt.ylim(40,60)\n",
    "\n",
    "show_boundary(model, X_train_unique, y_train_unique)"
   ]
  },
  {
   "cell_type": "markdown",
   "metadata": {},
   "source": [
    "### KNN full model - Hyperparameter Selection\n",
    "\n",
    "As usual we can use grid search and cross validation to select the best K for the dataset. In this case\n",
    "- a large value of K results in a smoother boundary\n",
    "- a small value of K in a more complex model"
   ]
  },
  {
   "cell_type": "code",
   "execution_count": null,
   "metadata": {},
   "outputs": [],
   "source": [
    "from sklearn.model_selection import GridSearchCV\n",
    "\n",
    "model = KNeighborsClassifier()\n",
    "params = {'n_neighbors': range(1, 15)}\n",
    "folds=10\n",
    "scorer = #...\n",
    "\n",
    "cv = GridSearchCV(...)\n",
    "cv.fit(X_full_train, y_train)"
   ]
  },
  {
   "cell_type": "code",
   "execution_count": null,
   "metadata": {
    "scrolled": true
   },
   "outputs": [],
   "source": [
    "show_results(cv, X_full_test, \"param_n_neighbors\")"
   ]
  },
  {
   "cell_type": "markdown",
   "metadata": {},
   "source": [
    "## Does feature normalization matter?\n",
    "\n",
    "KNN relies on sample distances to perform prediction. In most cases, having normalized features that all span on the same range allow samples to be compared more reliably.\n",
    "\n",
    "We usually have two options for normalizing features:\n",
    "- range normalization: $x' = \\frac{x - x_{min}}{x_{max} - x_{min}}$ which makes all the feature have values between $[0, 1]$\n",
    "- z-score normalization: $x' = \\frac{x - \\mu}{\\sigma}$ which make feature have 0 mean and unitary variance\n",
    "\n",
    "Let's try both and check how the cross validation accuracy changes "
   ]
  },
  {
   "cell_type": "code",
   "execution_count": null,
   "metadata": {},
   "outputs": [],
   "source": [
    "from sklearn.preprocessing import StandardScaler, MinMaxScaler\n",
    "\n",
    "params = {'knn__n_neighbors': range(1, 20)}\n",
    "model_std = Pipeline([\n",
    "    ('norm', ...),\n",
    "    ('knn', KNeighborsClassifier())])\n",
    "cv_std = GridSearchCV(model_std, params, refit=True, cv=10,\n",
    "                     scoring=make_scorer(accuracy))\n",
    "cv_std.fit(X_full_train, y_train)\n",
    "\n",
    "model_minmax = Pipeline([\n",
    "    ('norm', ...),\n",
    "    ('knn', KNeighborsClassifier())])\n",
    "cv_minmax = GridSearchCV(model_minmax, params, refit=True, cv=10,\n",
    "                        scoring=make_scorer(accuracy))\n",
    "cv_minmax.fit(X_full_train, y_train)\n",
    "\n",
    "# Plot the cv lines\n",
    "show_results(cv, X_full_test, \"param_n_neighbors\", prefix=\"Unnormalized\")\n",
    "show_results(cv_std, X_full_test, 'param_knn__n_neighbors', \"StandardScaler\")\n",
    "show_results(cv_minmax, X_full_test, 'param_knn__n_neighbors', \"MinMaxScaler\")"
   ]
  },
  {
   "cell_type": "markdown",
   "metadata": {},
   "source": [
    "## Which is the best model?\n",
    "\n",
    "Finally, let's compare all the models using the full set of features"
   ]
  },
  {
   "cell_type": "code",
   "execution_count": null,
   "metadata": {},
   "outputs": [],
   "source": [
    "lda = LDA()\n",
    "lda_poly = Pipeline([('poly', PolynomialFeatures(degree=2)),\n",
    "                     ('lda', LDA(store_covariance=True))])\n",
    "qda = QDA()\n",
    "knn = KNeighborsClassifier(n_neighbors=11)\n",
    "knn_std = Pipeline([\n",
    "    ('norm', StandardScaler()),\n",
    "    ('knn', KNeighborsClassifier(n_neighbors=16))])\n",
    "knn_minmax = Pipeline([\n",
    "    ('norm', MinMaxScaler()),\n",
    "    ('knn', KNeighborsClassifier(n_neighbors=17))])\n",
    "\n",
    "from collections import OrderedDict\n",
    "models = OrderedDict([('lda', lda), ('lda_poly', lda_poly), ('qda', qda),\n",
    "                      ('knn', knn), ('knn_std', knn_std), ('knn_minmax', knn_minmax)])\n",
    "\n",
    "cv_scores, test_scores = [], []\n",
    "for name, model in models.items():\n",
    "    scores = #...\n",
    "    cv_score = #...\n",
    "    cv_scores.append(cv_score)\n",
    "    \n",
    "    model.fit(X_full_train, y_train)\n",
    "    test_score = accuracy(y_test, model.predict(X_full_test))\n",
    "    test_scores.append(test_score)\n",
    "    print(\"{} CV score: {:.4f},  test score {:.4f}\".format(name, cv_score, test_score))\n",
    "\n",
    "data = pd.DataFrame()\n",
    "data['model'] = list(models.keys()) * 2\n",
    "data['metric'] = ['10-cv accuracy'] * len(cv_scores) + ['test accuracy'] * len(test_scores)\n",
    "data['score'] = cv_scores + test_scores\n",
    "\n",
    "sns.barplot(x='model', y='score', data=data, hue='metric')\n",
    "plt.legend(loc='lower right')"
   ]
  }
 ],
 "metadata": {
  "kernelspec": {
   "display_name": "Python 3",
   "language": "python",
   "name": "python3"
  },
  "language_info": {
   "codemirror_mode": {
    "name": "ipython",
    "version": 3
   },
   "file_extension": ".py",
   "mimetype": "text/x-python",
   "name": "python",
   "nbconvert_exporter": "python",
   "pygments_lexer": "ipython3",
   "version": "3.7.6"
  }
 },
 "nbformat": 4,
 "nbformat_minor": 2
}
