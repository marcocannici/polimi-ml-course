{
 "cells": [
  {
   "cell_type": "markdown",
   "metadata": {},
   "source": [
    "<table width=100%>\n",
    "<tr>\n",
    "    <td><h1 style=\"text-align: left; font-size:300%;\">\n",
    "        Clustering and Metrics\n",
    "    </h1></td>\n",
    "    <td width=\"20%\">\n",
    "    <div style=\"text-align: right\">\n",
    "    <b> Machine Learning 2021</b> <br>\n",
    "    <b>Lab06.01 - 26/05/2021<br>\n",
    "    Marco Cannici <br>\n",
    "    <a href=\"mailto:marco.cannici@polimi.it\">marco.cannici@polimi.it</a><br>\n",
    "    </div>\n",
    "    </td>\n",
    "    <td width=\"100px\"> \n",
    "        <a href=http://chrome.ws.dei.polimi.it/index.php?title=Machine_Learning_Bio>\n",
    "        <img align=\"right\", width=\"100px\" src='https://chart.googleapis.com/chart?cht=qr&chl=chrome.ws.dei.polimi.it/index.php?title=Machine_Learning_Bio&chs=180x180&choe=UTF-8&chld=L|0' alt=''>\n",
    "        </a>\n",
    "    </td>\n",
    "</tr>\n",
    "</table>"
   ]
  },
  {
   "cell_type": "code",
   "execution_count": null,
   "metadata": {},
   "outputs": [],
   "source": [
    "import matplotlib.pyplot as plt\n",
    "import matplotlib.cm as cm\n",
    "import matplotlib.colors as mcolors\n",
    "    \n",
    "import seaborn as sns\n",
    "import pandas as pd\n",
    "import numpy as np\n",
    "import sklearn\n",
    "import random\n",
    "np.random.seed(0)"
   ]
  },
  {
   "cell_type": "markdown",
   "metadata": {},
   "source": [
    "## Clustering images - small MNIST\n",
    "\n",
    "The MNIST database (Modified National Institute of Standards and Technology database) is a large database of $28 \\times 28$ handwritten digits that is commonly used for training various image processing systems, and is also widely used for training and testing in the field of machine learning. Scikit-learn provides a smaller, and low-resolution, version of MNIST that we can load using the `sklearn.datasets.load_digits` function.\n",
    "\n",
    "While it is usually used to train supervised classification algorithms, we will use it today for clustering."
   ]
  },
  {
   "cell_type": "code",
   "execution_count": null,
   "metadata": {},
   "outputs": [],
   "source": [
    "from sklearn.datasets import load_digits\n",
    "digits = load_digits()\n",
    "# Extracts images and labels\n",
    "X = digits.images\n",
    "y = digits.target\n",
    "\n",
    "print(\"X.shape \", X.shape)\n",
    "print(\"y.shape \", y.shape)\n"
   ]
  },
  {
   "cell_type": "markdown",
   "metadata": {},
   "source": [
    "The dataset contains a total of 1797 images, each of them having size $8 \\times 8$ (the small MNIST daatset has fewer samples than the original, which has 60k samples, an smaller images). Let's visualize some of them:"
   ]
  },
  {
   "cell_type": "code",
   "execution_count": null,
   "metadata": {},
   "outputs": [],
   "source": [
    "# Creates a figure composed of 10 rows ans 10 columns, each subfigure\n",
    "# of size 8x8. subplot_kw={...} disables the x and y values which are\n",
    "# usually plot below each axis\n",
    "fig, axes = plt.subplots(10, 10, figsize=(8, 8),\n",
    "                         subplot_kw={'xticks':[], 'yticks':[]},\n",
    "                         gridspec_kw=dict(hspace=0.1, wspace=0.1))\n",
    "\n",
    "# For each subfigure (from 0 to 100 in the 10x10 matrix)\n",
    "for i, ax in enumerate(axes.flat):\n",
    "    ax.imshow(..., cmap='binary', interpolation='nearest')\n",
    "    # Write the label in the bottom-left corner of the figure\n",
    "    ax.text(0.05, 0.05, str(...),\n",
    "            transform=ax.transAxes, color='r')"
   ]
  },
  {
   "cell_type": "markdown",
   "metadata": {},
   "source": [
    "### Data Visualization - Dimensionality reduction\n",
    "\n",
    "Let's pretend we don't know nothing abount MNIST and let's cosider each image as a vector of $8 \\times 8=64$ features. We can try to have a first idea on how samples are organized by visualizing how they are distributed in the space. In order to do that (we can only visualize 3 dimensions!) we have to reduce the number of features! There are a lot of dimensionality reduction algorithms, in this case we will use **PCA**.\n",
    "\n",
    "We can use PCA to convert the original dataset features (64) into **3 new features** (NB: not a subset of the most important features, but new ones!) and use them as coordinates of a 3D space!"
   ]
  },
  {
   "cell_type": "code",
   "execution_count": null,
   "metadata": {},
   "outputs": [],
   "source": [
    "from sklearn.decomposition import PCA\n",
    "# Define PCA with 3 components, this will transform \n",
    "pca = ...\n",
    "\n",
    "# We consire images as simple vectors of 64 features\n",
    "X = ...\n",
    "# Reduce features dimensionality, just for visualization\n",
    "# purpuses\n",
    "X_prj = ...\n",
    "X_prj.shape"
   ]
  },
  {
   "cell_type": "code",
   "execution_count": null,
   "metadata": {},
   "outputs": [],
   "source": [
    "def plot3d(X, labels):\n",
    "    # Set matplotlib to generate static images\n",
    "    # %matplotlib inline\n",
    "    # Set matplotlib as interactive\n",
    "    %matplotlib notebook\n",
    "    # This import is required to set up the 3D environment\n",
    "    from mpl_toolkits.mplot3d import Axes3D\n",
    "    \n",
    "    pca = ...\n",
    "    # We consire images as simple vectors of 64 features\n",
    "    X = ...\n",
    "    # Reduce features dimensionality, just for visualization\n",
    "    # purpuses\n",
    "    X = ...\n",
    "    \n",
    "    unique_labels = np.unique(labels)\n",
    "    # Convert negative values (outliers) into positive\n",
    "    labels = labels.copy()\n",
    "    labels += np.abs(unique_labels.min())\n",
    "    nlabels = len(unique_labels)\n",
    "    fig = plt.figure(figsize=(15,10))\n",
    "    ax = fig.add_subplot(111, projection='3d')\n",
    "    # Define color mappings\n",
    "    col = ('tab10' if nlabels <= 10 else \n",
    "          ('tab20' if nlabels <= 20 else\n",
    "           'hsv'))\n",
    "    cmap = plt.cm.get_cmap(col)\n",
    "    smap = cm.ScalarMappable(\n",
    "              norm=mcolors.Normalize(unique_labels.min(), unique_labels.max()+1), \n",
    "              cmap=cmap)\n",
    "    # Plot the 3d coordinates (similar to standard scatter plots, we just\n",
    "    # need to provide an additional z coordinate!)\n",
    "    ax.scatter(xs=..., ys=..., zs=..., c=labels, cmap=cmap)\n",
    "    # Plot a color bar on the right\n",
    "    plt.colorbar(mappable=smap, label='digit label', ticks=range(nlabels))\n",
    "    \n",
    "plot3d(X, labels=y)"
   ]
  },
  {
   "cell_type": "markdown",
   "metadata": {},
   "source": [
    "By inspecting the graph we can see that:\n",
    "- Images (in this case points in the 3D space) of the same class seem to aggregate in close regions of the space\n",
    "- Different classes/cluster seem to be well separated, but may have different densities and shapes\n",
    "- Similar classes (e.g., 3 and 8) tend to be located in close regions of the space\n",
    "\n",
    "These observations (the first two) let us conclude that\n",
    "- A good clustering algorithm, properly tuned, should be able to accurately reconstruct the original clusters.\n",
    "- From the third observation, moreover, we can predict that similar digits may end up being clustered within the same cluster. \n",
    "\n",
    "**Notice** indeed that in this lecture we will deal with **unsupervised algorithms**, that don't have access to the true underlying class of each digit. Their prediction is only driven by how images are similar/dissimilar to each other! We may end up selecting fewer or more clusters, but this does not mean that the clustering is wrong!"
   ]
  },
  {
   "attachments": {
    "immagine.png": {
     "image/png": "[encoded data removed]"
    }
   },
   "cell_type": "markdown",
   "metadata": {},
   "source": [
    "# Hierarchical Clustering\n",
    "\n",
    "Hierarchical clustering (or Agglomerative clustering) is a clustering technique that works by partitioning the points iteratively. A **bottom-up** approach starts by considering singleton clusters (i.e., clusters containing only one sample) and then iteratively merges together the two most similar clusters.\n",
    "\n",
    "This iterative approach, while in some cases less efficient, allows us to reconstruct the sequence of merges and to build a hierarchy of clusters which is usually called **dendrogram**.\n",
    "\n",
    "![immagine.png](attachment:immagine.png)\n",
    "\n",
    "### Linkage Matrix\n",
    "\n",
    "In scikit-learn we have two ways to perform hierarchical clustering:\n",
    "- by building the **Linakge Matrix**, i.e., a matrix specifying the sequence of merges\n",
    "- or by using the usual `fit()` `predict()` API"
   ]
  },
  {
   "cell_type": "code",
   "execution_count": null,
   "metadata": {},
   "outputs": [],
   "source": [
    "from scipy.cluster.hierarchy import dendrogram, linkage\n",
    "\n",
    "# Generate the linkage matrix\n",
    "Z = ..."
   ]
  },
  {
   "cell_type": "markdown",
   "metadata": {},
   "source": [
    "The linkage matrix is a $(N-1) \\times 4$ matrix specifying the sequence of merges, from the first one (fir row) to the last one (last row).\n",
    "\n",
    "Each row contains **four information**:\n",
    "- `id1`, `id2` are the id of the two samples, or clusters, that have been merged at that particular iteration\n",
    "- `dist` the distance between `id1`, `id2` before the merge\n",
    "- `npoints` the number of original observations contained in the cluster after the merge\n",
    "\n",
    "The `id#` values refer to:\n",
    "- original points if the value is `id# < len(data)`, \n",
    "- or to a cluster otherwise. We can reconstruct the cluster by selecting the linkage row `id# - len(data)`."
   ]
  },
  {
   "cell_type": "code",
   "execution_count": null,
   "metadata": {},
   "outputs": [],
   "source": [
    "print(\"X.shape\", X.shape)\n",
    "# Print the first 10 merges\n",
    "..."
   ]
  },
  {
   "cell_type": "markdown",
   "metadata": {},
   "source": [
    "For instance, if we look at line $0$, we are inspecting the first merge that is being performed by the algorithm. This is referring to sample id $1585$ and $1648$, which are the two most similar points in the dataset."
   ]
  },
  {
   "cell_type": "code",
   "execution_count": null,
   "metadata": {},
   "outputs": [],
   "source": [
    "# Compute the linkages row numbers referring \n",
    "# to a merge with at least one cluster\n",
    "..."
   ]
  },
  {
   "cell_type": "code",
   "execution_count": null,
   "metadata": {},
   "outputs": [],
   "source": [
    "# Inspect one of these lines to verify \n",
    "print(...)"
   ]
  },
  {
   "cell_type": "markdown",
   "metadata": {},
   "source": [
    "Line $58$ instead merges id $326$ (a sample, $< 1797$) with $1800$ (a previous cluster, $>= 1797$). If we want to reconstruct which was cluster $1800$ we can inspect line $1800 - 1797 = 3$ "
   ]
  },
  {
   "cell_type": "markdown",
   "metadata": {},
   "source": [
    "### Plotting the Dendrogram\n",
    "\n",
    "Starting from the linkage matrix, we can plot in scikit-learn the **dendrogram** using the `cluster.hierarchy.dendrogram` method. \n",
    "\n",
    "In the following function we plot the dendrogram and **add some additional information on the dendrogram intersections**. In particular we mark intersection with their linkage row id, so that we can optionally inspect which nodes are under that part of the dendrogram!\n",
    "\n",
    "**NOTE:** we chose to identify nodes by negative numbers: $-1$ is the last merge, $-2$ is the last but one merge and so on."
   ]
  },
  {
   "cell_type": "code",
   "execution_count": null,
   "metadata": {},
   "outputs": [],
   "source": [
    "from scipy.cluster.hierarchy import dendrogram\n",
    "\n",
    "def plot_dendrogram(Z=None, model=None, X=None, **kwargs):\n",
    "    annotate_above = kwargs.pop('annotate_above', 0)\n",
    "\n",
    "    # Reconstruct the linakge matrix if the standard model API was used\n",
    "    if Z is None:\n",
    "        if hasattr(model, 'distances_') and model.distances_ is not None:\n",
    "            # create the counts of samples under each node\n",
    "            counts = np.zeros(model.children_.shape[0])\n",
    "            n_samples = len(model.labels_)\n",
    "            for i, merge in enumerate(model.children_):\n",
    "                current_count = 0\n",
    "                for child_idx in merge:\n",
    "                    if child_idx < n_samples:\n",
    "                        current_count += 1  # leaf node\n",
    "                    else:\n",
    "                        current_count += counts[child_idx - n_samples]\n",
    "                counts[i] = current_count\n",
    "\n",
    "            Z = np.column_stack([model.children_, model.distances_,\n",
    "                                              counts]).astype(float)\n",
    "        else:\n",
    "            Z = linkage(X, method=model.linkage, metric=model.affinity)\n",
    "    \n",
    "    if 'n_clusters' in kwargs:\n",
    "        n_clusters = kwargs.pop('n_clusters')\n",
    "        # Set the cut point just above the last but 'n_clusters' merge\n",
    "        # TODO: kwargs['color_threshold'] = #....\n",
    "        kwargs['color_threshold'] = None\n",
    "    \n",
    "    fig = plt.figure(figsize=(20,10))\n",
    "    ax = fig.add_subplot(111)\n",
    "    # Plot the corresponding dendrogram\n",
    "    ddata = ...\n",
    "    \n",
    "    # Annotate nodes in the dendrogram\n",
    "    for i, d, c in zip(ddata['icoord'], ddata['dcoord'], ddata['color_list']):\n",
    "        x = 0.5 * sum(i[1:3])\n",
    "        y = d[1]\n",
    "        nid = np.where(Z[:,2] == y)[0][0]\n",
    "        # if y > annotate_above:\n",
    "        #     plt.plot(x, y, 'o', c=c)\n",
    "        #     plt.annotate(str(nid-Z.shape[0]), (x, y), xytext=(0, -5),\n",
    "        #                  textcoords='offset points',\n",
    "        #                  va='top', ha='center')\n",
    "    if kwargs['color_threshold']:\n",
    "        plt.axhline(y=kwargs['color_threshold'], c='k')\n",
    "    \n",
    "    return fig, ax\n",
    "   "
   ]
  },
  {
   "cell_type": "code",
   "execution_count": null,
   "metadata": {},
   "outputs": [],
   "source": [
    "# Plot the dendrogram, showing ony the ast 100 merges\n",
    "# and cutting the dendrogram so that we obtain 10 clusters\n",
    "plot_dendrogram(Z=..., X=...,\n",
    "                truncate_mode='lastp', \n",
    "                p=100, n_clusters=...)"
   ]
  },
  {
   "cell_type": "markdown",
   "metadata": {},
   "source": [
    "While the dendrogram is very useful for inspecting the hierarchy and sequence of merges/splits, **it is not very informative if we are not able to determine what are the samples grouped inside each of the clusters**.\n",
    "\n",
    "However, **using the linkage matrix we can reconstruct the set of points within each cluster!** Remember that the first two values in each row refer to sample/cluster id. We can \"backtrack\" the sequence of merges and reconstruct the list of samples given a linkage row!"
   ]
  },
  {
   "cell_type": "code",
   "execution_count": null,
   "metadata": {},
   "outputs": [],
   "source": [
    "# Recursively backtrack the dendrogram, collecting\n",
    "# the list of sample id starting from an initial point\n",
    "def get_node_leaves(Z, idx, N):\n",
    "    n1, n2 = Z[idx,0], Z[idx,1]\n",
    "    leaves = []\n",
    "    for n in [n1, n2]:\n",
    "        leaves += ...\n",
    "    return leaves\n",
    "\n",
    "# Plot a number of images (at most maxn) under a cluster/sample id\n",
    "def plot_node(Z, X, y, idx, maxn=15*15):\n",
    "    leaves = get_node_leaves(Z, idx, X.shape[0])\n",
    "    labels, counts = np.unique(y[leaves], return_counts=True)\n",
    "    nleaves = len(leaves)\n",
    "    print(pd.DataFrame(np.array(counts).reshape(1,-1), \n",
    "                       columns=labels, index=[\"Frequency:\"]))\n",
    "    print(\"Images in the cluster:\", len(leaves), \"/\", X.shape[0])\n",
    "\n",
    "    random.shuffle(leaves)\n",
    "    leaves = leaves[:maxn]\n",
    "    h = min((nleaves // 15)+1, 15)\n",
    "    w = nleaves if nleaves < 15 else 15\n",
    "    \n",
    "    fig, axes = plt.subplots(h, w, figsize=(w, h),\n",
    "                         subplot_kw={'xticks':[], 'yticks':[]},\n",
    "                         gridspec_kw=dict(hspace=0.1, wspace=0.1))\n",
    "\n",
    "    # For each subfigure (from 0 to 100 in the 10x10 matrix)\n",
    "    for i, ax in enumerate(axes.flat):\n",
    "        if i < nleaves:\n",
    "            ax.imshow(..., cmap='binary', interpolation='nearest')\n",
    "            ax.text(0.05, 0.05, str(...), transform=ax.transAxes, color='r')\n",
    "        else:\n",
    "            ax.set_axis_off()"
   ]
  },
  {
   "cell_type": "code",
   "execution_count": null,
   "metadata": {},
   "outputs": [],
   "source": [
    "# Plot the first node\n",
    "# Remember: we expect only two samples,\n",
    "# the most similar ones in the dataset!\n",
    "plot_node(Z, X, y, 0)"
   ]
  },
  {
   "cell_type": "markdown",
   "metadata": {},
   "source": [
    "As expected, if we inspec the node with id $0$ (first merge), we obtain ony two sample which look almost identical. They are the two most similar samples in the dataset!\n",
    "\n",
    "Try to plot nodes $-13$ and $-10$, which are later merged together! They refer to samples with class $5$ and $2$, which, also visually, are very similar to each other!"
   ]
  },
  {
   "cell_type": "code",
   "execution_count": null,
   "metadata": {},
   "outputs": [],
   "source": [
    "#..."
   ]
  },
  {
   "cell_type": "markdown",
   "metadata": {},
   "source": [
    "Notice that The cluster of $5$s, is the resut of merging two subclusters: $-16$ and $-24$. If we inspect them, we see that these correspond to two different ways of writing the five: The first one has a large circle on the $5$ belly, while the second one a smaller and very flattened one."
   ]
  },
  {
   "cell_type": "code",
   "execution_count": null,
   "metadata": {},
   "outputs": [],
   "source": [
    "#...."
   ]
  },
  {
   "cell_type": "markdown",
   "metadata": {},
   "source": [
    "The same goes for clusters $-27$ and $-21$, coresponding to the digit $4$. The first represent (almost) \"closed\" $4$ digits, while the second one \"U shaped\" $4$s! \n",
    "\n",
    "Hierarchical clustering allows us to identify these structure in data! Because of that, a part from a clustering algorithm, it is also **often used as a visualization technique to inspect datasets**."
   ]
  },
  {
   "cell_type": "markdown",
   "metadata": {},
   "source": [
    "## Linkage methods\n",
    "\n",
    "Given a set of clusters, we have different options to decide which of them to merge first. There are mutiple strategies to decide, the best one ofted depend on the dataset!\n",
    "\n",
    "- **Complete** (maximal intercluster distance): Compute all distances between points in cluster A and cluster B and return the *largest of these distances*.\n",
    "- **Single** (minimal intercluster distance): As before, but we return the *smallest distance*.\n",
    "- **Average/Median** (mean intercluster distance): As before, but we return the *average/median of the distances*.\n",
    "- **Centroid**: We compute the distance of the two clusters as the distance between the two clusters means/centroids.\n",
    "- **Ward** (minimal inter-cluster variance): Finds the pair of clusters that leads to *minimum increase in total within-cluster variance after merging*"
   ]
  },
  {
   "cell_type": "code",
   "execution_count": null,
   "metadata": {
    "scrolled": true
   },
   "outputs": [],
   "source": [
    "methods = ['single', 'average', 'complete', 'centroid', 'ward']\n",
    "\n",
    "for method in methods:\n",
    "    Z = #...\n",
    "    fig, ax = plot_dendrogram(Z=Z, X=X, truncate_mode='lastp', \n",
    "                              p=100, n_clusters=10)\n",
    "    ax.set_title(method)"
   ]
  },
  {
   "cell_type": "markdown",
   "metadata": {},
   "source": [
    "As expected:\n",
    "- **Single** linkage is the one that provides smaller jumps among all. Not very good in our case where points are all very close to each other. It ends up merging single points into an (each time) larger cluster until coverage\n",
    "- **Complete** linkage provides generally larger jumps than single and average\n",
    "- **Centroids** linkage may suffer (as in this case!) of **inversions**. As the centroids move with new observations (after merging), it is possible that the distance between the new cluster and another cluster decreases after the merge. If these two happen to be the next two clusters to be merged, we may see a \"jump\" downwards in the dendrogram\n",
    "- **Ward** is generally very stable (default choice for scikit-learn)"
   ]
  },
  {
   "cell_type": "markdown",
   "metadata": {},
   "source": [
    "### The `AgglomerativeClustering` algorithm\n"
   ]
  },
  {
   "cell_type": "markdown",
   "metadata": {},
   "source": [
    "As usual, we can also make use of the standard scikit-learn API. It behaves similarly but also provides the the usual `fit()` and `predict()` methods.\n",
    "\n",
    "We can either:\n",
    "- specify a cut point using the `distance_threshold` method\n",
    "- or the total number of cluster that we want with `n_clusters`. The cut point will be aoutomatically determined. *How to determine it using the linkage matrix?*"
   ]
  },
  {
   "cell_type": "code",
   "execution_count": null,
   "metadata": {},
   "outputs": [],
   "source": [
    "from sklearn.cluster import AgglomerativeClustering\n",
    "distance_threshold=None#270\n",
    "n_clusters=10\n",
    "\n",
    "model = AgglomerativeClustering(...)\n",
    "\n",
    "y_predict = model.fit_predict(X)\n",
    "\n",
    "plot3d(X, labels=y_predict)\n",
    "plot_dendrogram(model=model, X=X, truncate_mode='lastp', p=100, \n",
    "                n_clusters=n_clusters, \n",
    "                color_threshold=distance_threshold)"
   ]
  },
  {
   "cell_type": "markdown",
   "metadata": {},
   "source": [
    "## Clustering Metrics\n",
    "\n",
    "### Cluster validity via correlation\n",
    "\n",
    "We define the **incidence matrix** as an $N \\times N$ matrix (where N is the number of sampes) having a $1$ in position $(i, j)$ if the samples $i$ and $j$ have the same *predicted* cluster id. \n",
    "\n",
    "We define the **similarity matrix** as an $N \\times N$ matrix containing the similarity ($1 - distance$) between each pair of points\n",
    "\n",
    "The **clustering correlation** is defined as the correlation (normalized dot product, or cosine similairty) between these matrices, seen as two vectors!"
   ]
  },
  {
   "cell_type": "code",
   "execution_count": null,
   "metadata": {},
   "outputs": [],
   "source": [
    "from sklearn.metrics import pairwise_distances\n",
    "from sklearn.preprocessing import normalize\n",
    "\n",
    "def incidence_mat(y_pred):\n",
    "    npoints = y_pred.shape[0]\n",
    "    mat = np.zeros([npoints, npoints])\n",
    "    # Retrieve how many different cluster ids there are\n",
    "    clusters = np.unique(y_pred)\n",
    "    nclusters = clusters.shape[0]\n",
    "    \n",
    "    for i in range(nclusters):\n",
    "        sample_idx = #... indices of the samples in this cluster\n",
    "        # Compute combinations of these indices\n",
    "        idx = ...\n",
    "        mat[..., ...] = ...\n",
    "        \n",
    "    return mat\n",
    "\n",
    "def similarity_mat(X, metric):\n",
    "    dist_mat = pairwise_distances(...)\n",
    "    min_dist, max_dist = dist_mat.min(), dist_mat.max()\n",
    "    \n",
    "    # Normalize distances in [0, 1] and compute the similarity\n",
    "    sim_mat = ...\n",
    "    return sim_mat\n",
    "\n",
    "def correlation(X, y_pred, metric):\n",
    "    inc = incidence_mat(y_pred)\n",
    "    sim = similarity_mat(X, metric)\n",
    "    \n",
    "    # Note: we can eventually remove duplicate values\n",
    "    # only the upper/lower triangular matrix\n",
    "    # triuidx = np.triu_indices(y_pred.shape[0], k=1)\n",
    "    # inc = inc[triuidx]\n",
    "    # sim = sim[triuidx]\n",
    "    \n",
    "    inc = ...\n",
    "    sim = ...\n",
    "    corr = ...\n",
    "    return corr[0,0]   "
   ]
  },
  {
   "cell_type": "code",
   "execution_count": null,
   "metadata": {},
   "outputs": [],
   "source": [
    "correlation(X, y_predict, 'euclidean')"
   ]
  },
  {
   "cell_type": "markdown",
   "metadata": {},
   "source": [
    "We don't record a very high metric in this case, why? The selected distance metric may not be very good in our case, potentialy affecting also the goodness of our clusters!\n",
    "\n",
    "**How does it compare with a random clustering?**"
   ]
  },
  {
   "cell_type": "code",
   "execution_count": null,
   "metadata": {},
   "outputs": [],
   "source": [
    "y_rand = ...\n",
    "correlation(X, y_rand, 'euclidean')"
   ]
  },
  {
   "cell_type": "markdown",
   "metadata": {},
   "source": [
    "To inspect the similarity matrix and take a look at how much points within the same cluster are distant from each other we can resort to a **sorted similarity matrix**.\n",
    "\n",
    "We compute the similarity matrix (or distance matrix) as usual, and then order rows and columns in such a way that points with the same cluster id are close to each other."
   ]
  },
  {
   "cell_type": "code",
   "execution_count": null,
   "metadata": {},
   "outputs": [],
   "source": [
    "def sorted_mat(sim, y_pred):\n",
    "    idx_sorted = ...\n",
    "    # Sort the rows\n",
    "    sim = ...\n",
    "    # Sort the columns\n",
    "    sim = ...\n",
    "    \n",
    "    return sim\n",
    "\n",
    "def plot_sorted_mat(sim, y_pred):\n",
    "    sim = sorted_mat(sim, y_pred)\n",
    "    \n",
    "    fig, ax = plt.subplots(figsize=(40,30))  \n",
    "    ax = sns.heatmap(sim, ax=ax)\n",
    "    # Remove ruler (ticks)\n",
    "    ax.set_yticks([]) \n",
    "    ax.set_xticks([])"
   ]
  },
  {
   "cell_type": "code",
   "execution_count": null,
   "metadata": {},
   "outputs": [],
   "source": [
    "# Try to select different distances!\n",
    "sim = ...\n",
    "# plot sorted ..."
   ]
  },
  {
   "cell_type": "markdown",
   "metadata": {},
   "source": [
    "The simiarity matrix should appear as formed by squares that arrange along the main diagonal!\n",
    "\n",
    "Remember that in our case we have some digits/clusters that contain two or more versions of drawing the same digit, or digits that are very similar to each other!"
   ]
  },
  {
   "cell_type": "code",
   "execution_count": null,
   "metadata": {},
   "outputs": [],
   "source": [
    "# Plot the sorted indicence matrix and compare it with the similarity one\n",
    "inc = ...\n",
    "# plot sorted ..."
   ]
  },
  {
   "cell_type": "markdown",
   "metadata": {},
   "source": [
    "## Deciding the number of clusters\n",
    "\n",
    "### Dendrogram\n",
    "\n",
    "The dendrogram shows distances between clusters. We can use this knowledge to decide where to cut. If we see that two cluster were merged despite their distance was very high, we can conclude that that merge was probably not needded"
   ]
  },
  {
   "cell_type": "code",
   "execution_count": null,
   "metadata": {},
   "outputs": [],
   "source": [
    "Z = linkage(X, metric='euclidean', method='ward')\n",
    "fig, ax = plot_dendrogram(Z=Z, X=X, truncate_mode='lastp', \n",
    "                          p=100, n_clusters=0)"
   ]
  },
  {
   "cell_type": "markdown",
   "metadata": {},
   "source": [
    "### Elbow Analysis\n",
    "\n",
    "If we don't know the data very well, how can we determine the correct number of clusters? A common technique is called **elbow analysis** and consists in plotting two metrics (**within sum of squares**) and (**between sum of squares**).\n",
    "\n",
    "- **WSS** = Sum of the distances between any pair of points that are in the same cluster\n",
    "\n",
    "- **BSS** = Sum of the distances between any pair of points that are in different clusters\n",
    "\n",
    "We then search for \"elbows\" in this graph to decide where to cut"
   ]
  },
  {
   "cell_type": "code",
   "execution_count": null,
   "metadata": {},
   "outputs": [],
   "source": [
    "def wss(X, y_pred, metric):\n",
    "    # Compute the incidence matrix\n",
    "    inc = incidence_mat(y_pred)\n",
    "    # Compute the distances between each pair of nodes\n",
    "    dist_mat = pairwise_distances(X, metric=metric)\n",
    "    # Use the incidence matrix to select only the \n",
    "    # distances between pair of nodes in the same cluster\n",
    "    dist_mat = ...\n",
    "    # Select the lower/upper triangular part of the matrix\n",
    "    # excluding the diagonal\n",
    "    triu_idx = #...\n",
    "    \n",
    "    wss = ...\n",
    "    \n",
    "    return wss\n",
    "\n",
    "def bss(X, y_pred, metric):\n",
    "    # Compute the incidence matrix\n",
    "    inc = incidence_mat(y_pred)\n",
    "    # Compute the distances between each pair of nodes\n",
    "    dist_mat = pairwise_distances(X, metric=metric)\n",
    "    # Use the incidence matrix to select only the \n",
    "    # distances between pair of nodes in different clusters\n",
    "    dist_mat = ...\n",
    "    # Select the lower/upper triangular part of the matrix\n",
    "    # excluding the diagonal\n",
    "    triu_idx = np.triu_indices(X.shape[0], k=1)\n",
    "    \n",
    "    bss = ...\n",
    "    \n",
    "    return bss\n",
    "\n",
    "print(\"WSS\", wss(X, y_predict, 'euclidean'))\n",
    "print(\"BSS\", bss(X, y_predict, 'euclidean'))"
   ]
  },
  {
   "cell_type": "markdown",
   "metadata": {},
   "source": [
    "\n",
    "- **Sinlhuette score** = A combination of the two. Already provided by `metrics.silhouette_score`\n",
    "\n",
    "We cut where the silhuette has its maximum"
   ]
  },
  {
   "cell_type": "code",
   "execution_count": null,
   "metadata": {},
   "outputs": [],
   "source": [
    "from sklearn.metrics import silhouette_score\n",
    "\n",
    "wss_list, bss_list, sil_list = [], [], []\n",
    "clus_list = list(range(1, 15))\n",
    "\n",
    "for nc in clus_list:\n",
    "    model = AgglomerativeClustering(n_clusters=nc,\n",
    "                                    affinity='euclidean', \n",
    "                                    linkage='ward')\n",
    "\n",
    "    y_predict = model.fit_predict(X)\n",
    "    \n",
    "    wss_list.append(wss(X, y_predict, 'euclidean'))\n",
    "    bss_list.append(bss(X, y_predict, 'euclidean'))\n",
    "    if nc > 1:\n",
    "        sil_list.append(silhouette_score(X, y_predict, metric='euclidean'))\n",
    "    \n",
    "plt.plot(clus_list, wss_list, label='WSS')\n",
    "plt.plot(clus_list, bss_list, label='BSS')\n",
    "plt.legend()\n",
    "plt.show()\n",
    "\n",
    "plt.plot(clus_list[1:], sil_list, label='Average silhuette score')\n",
    "plt.legend()"
   ]
  },
  {
   "cell_type": "markdown",
   "metadata": {},
   "source": [
    "As expected:\n",
    "- **BSS** increases as the number of clusters increases: if all points are in the same cluster we don't have anything to sum, if all points are in different clusters we sum all the distances\n",
    "- **WSS** decreases as the number of clusters increases: the behavior is exactly the opposite as BSS\n",
    "\n",
    "The silhuette courve is usualy more easy to interpret. In this case it suggests us to cut at $9$ clusters. This translates in merging together $1$s and $8$s digits. Not a very strange choice if you look at some of the MNIST $8$ digits!"
   ]
  },
  {
   "cell_type": "code",
   "execution_count": null,
   "metadata": {},
   "outputs": [],
   "source": [
    "Z = linkage(X, metric='euclidean', method='ward')\n",
    "fig, ax = plot_dendrogram(Z=Z, X=X, truncate_mode='lastp', \n",
    "                          p=100, n_clusters=9)"
   ]
  },
  {
   "cell_type": "code",
   "execution_count": null,
   "metadata": {},
   "outputs": [],
   "source": [
    "plot_node(Z, X, y, ...)"
   ]
  },
  {
   "cell_type": "markdown",
   "metadata": {},
   "source": [
    "## Precision, Recall and Purity\n",
    "\n",
    "Metrics defined for classificaton are also defined for clustering. In this case their definition is a little bit different since in clustering we are free to assign cluster ids, it only metters how we split samples, not the cluster id we chose!\n",
    "\n",
    "**Notice:** we can compute this metrics only if we know the underlying true cluster assignments!"
   ]
  },
  {
   "cell_type": "code",
   "execution_count": null,
   "metadata": {},
   "outputs": [],
   "source": [
    "def get_Ncounts(y_predict, y_true, k, j=None):\n",
    "    N = #...\n",
    "    Nk_mask = #...\n",
    "    Nk = #...\n",
    "    Nj, Nkj = None, None\n",
    "    if j is not None:\n",
    "        Nj_mask = #...\n",
    "        Nj = #...\n",
    "        Nkj = #...\n",
    "    return N, Nk, Nj, Nkj\n",
    "\n",
    "def precision(y_predict, y_true, k, j):\n",
    "    N, Nk, Nj, Nkj = get_Ncounts(y_predict, y_true, k, j)\n",
    "    return Nkj / (Nk + 1e-8)\n",
    "    \n",
    "def recall(y_predict, y_true, k, j):\n",
    "    N, Nk, Nj, Nkj = get_Ncounts(y_predict, y_true, k, j)\n",
    "    return Nkj / (Nj + 1e-8)\n",
    "\n",
    "def F(y_predict, y_true, k, j):\n",
    "    p = precision(y_predict, y_true, k, j)\n",
    "    r = recall(y_predict, y_true, k, j)\n",
    "    return (2*p*r) / (p+r)\n",
    "\n",
    "def purity(y_predict, y_true, k):\n",
    "    cls = np.unique(y_true)\n",
    "    prec = [precision(y_predict, y_true, k, j) for j in cls]\n",
    "    return max(prec)\n",
    "\n",
    "def tot_purity(y_predict, y_true):\n",
    "    N = y_true.shape[0]\n",
    "    nc = len(np.unique(y_true))\n",
    "    p = 0\n",
    "    for k in range(nc):\n",
    "        N, Nk, _, _ = get_Ncounts(y_predict, y_true, k)\n",
    "        pk = purity(y_predict, y_true, k)\n",
    "        p += (Nk / N) * pk\n",
    "    return p"
   ]
  },
  {
   "cell_type": "code",
   "execution_count": null,
   "metadata": {},
   "outputs": [],
   "source": [
    "tot_purity(y_predict, y)"
   ]
  },
  {
   "cell_type": "markdown",
   "metadata": {},
   "source": [
    "We can interpret the purity as a sort of accuracy in classification terms. **How does it compare with a random clustering?** (Should be almost 1/10!)"
   ]
  },
  {
   "cell_type": "code",
   "execution_count": null,
   "metadata": {},
   "outputs": [],
   "source": [
    "#..."
   ]
  },
  {
   "attachments": {
    "immagine.png": {
     "image/png": "[encoded data removed]"
    }
   },
   "cell_type": "markdown",
   "metadata": {},
   "source": [
    "## KMeans\n",
    "\n",
    "KMeans is a representative-based clustering algorithm, meaning that, each cluster is always represented by a single point in the feature space. It is an **iterative** algorithm, that incrementally updates and improve the solution, and, unlike hierarchical clustering, it **needs to know in advantage the final number of clusters**.\n",
    "\n",
    "![immagine.png](attachment:immagine.png)"
   ]
  },
  {
   "cell_type": "code",
   "execution_count": null,
   "metadata": {},
   "outputs": [],
   "source": [
    "from sklearn.cluster import KMeans\n",
    "model = KMeans(n_clusters=..., init=..., random_state=0)             \n",
    "y_predict = model.fit_predict(X)\n",
    "print(\"Kmeans purity\", tot_purity(y_predict, y))\n",
    "\n",
    "plot3d(X, labels=y_predict)"
   ]
  },
  {
   "cell_type": "markdown",
   "metadata": {},
   "source": [
    "By inspecting the 3D graph, we can see that KMeans identifies clusters with particular shapes, namely **ellipses** (or spheres in 3d) **with axis oriented as the world axis.** This turned out to be a good prior in our case, however, it is not always the case!\n",
    "\n",
    "### Initialization\n",
    "\n",
    "Moreover, KMeans performance greatly depends on the **initial points**. If we start wit a cluster point which is far away from the actual points, an close to an outlier, we may end up obtaining a cluster with a single point inisde!\n",
    "\n",
    "Multiple strategies exists:\n",
    "- running **hierchical clustering** on a smaller set of points, searching for K cluster, and then initializing KMeans as the centroids identified by hierarchical clustering\n",
    "- **furthest** initialization: picking K points which are as far as possible for each other (start with a random point, the select the furthest one, the the furthest from the two selected points, and so on)\n",
    "- **kmeans++**: similar to furthest initialization, but each time we compute the minimum distance $D(x)$ between a point x and one of the selected centroids. Then we randomly select the next one with probability inversally proportional to $D(x)^2$. In other words, we sample points far away with higher probability w.r.t. those close to already selected points"
   ]
  },
  {
   "cell_type": "code",
   "execution_count": null,
   "metadata": {},
   "outputs": [],
   "source": [
    "# Random\n",
    "model = KMeans(n_clusters=10, init=..., random_state=0)             \n",
    "print(\"Random Kmeans purity\", tot_purity(model.fit_predict(X), y))\n",
    "\n",
    "# K-Means++\n",
    "model = KMeans(n_clusters=10, init=..., random_state=0)             \n",
    "print(\"Kmeans++ purity\", tot_purity(model.fit_predict(X), y))\n",
    "\n",
    "# Hierarchical\n",
    "hmodel = AgglomerativeClustering(n_clusters=10, \n",
    "                                 distance_threshold=distance_threshold, \n",
    "                                 affinity='euclidean', linkage='complete')\n",
    "y_predict = #...\n",
    "centroids = np.stack([... for k in range(10)])\n",
    "model = KMeans(n_clusters=10, init=..., n_init=1, random_state=0)             \n",
    "print(\"Hierarchical+Kmeans purity\", tot_purity(model.fit_predict(X), y))"
   ]
  },
  {
   "cell_type": "markdown",
   "metadata": {},
   "source": [
    "### K-Means limits on synthetic data\n",
    "\n",
    "While very popular, K-Means ha s a number of problems when clusters:\n",
    "- have different sizes\n",
    "- different densities\n",
    "- non globular shapes\n",
    "- outliers than do not belong to any cluster"
   ]
  },
  {
   "cell_type": "code",
   "execution_count": null,
   "metadata": {},
   "outputs": [],
   "source": [
    "from sklearn import cluster, datasets\n",
    "from sklearn.preprocessing import StandardScaler\n",
    "\n",
    "n_samples = 1500\n",
    "random_state = 170\n",
    "# Make 2 circles, one inside the other\n",
    "noisy_circles = datasets.make_circles(n_samples=n_samples,\n",
    "                                      factor=.5,\n",
    "                                      noise=.05,\n",
    "                                      random_state=random_state)\n",
    "# Make two moon shaped clusters\n",
    "noisy_moons = datasets.make_moons(n_samples=n_samples, noise=.05,\n",
    "                                  random_state=random_state)\n",
    "# Make globular shaped clusters\n",
    "blobs = datasets.make_blobs(n_samples=n_samples, random_state=random_state)\n",
    "\n",
    "# Non globular shaped\n",
    "transformation = [[0.60834549, -0.63667341], [-0.40887718, 0.85253229]]\n",
    "blobs_non_glob = np.dot(blobs[0], transformation), blobs[1]\n",
    "\n",
    "# Make uniformly distributed clusters\n",
    "blobs_variance = datasets.make_blobs(n_samples=n_samples,\n",
    "                                cluster_std=[1.0, 2.5, 0.5],\n",
    "                                random_state=random_state)\n",
    "\n",
    "# Collect clusters into a list\n",
    "# Datasets are a tuple\n",
    "# data, labels) = (np.ndarray([n_samples, 2]), np.ndarray([n_samples]))\n",
    "datasets = [noisy_circles, noisy_moons, blobs, blobs_non_glob, blobs_variance]\n",
    "\n",
    "# We normalize the data so that points are distributed in the same\n",
    "# range of values. This will help while comparing algorithms\n",
    "for i in range(len(datasets)):\n",
    "    Xd, yd = datasets[i]\n",
    "    Xd = StandardScaler().fit_transform(Xd)\n",
    "    datasets[i] = (Xd, yd)\n",
    "\n",
    "print(\"Original clusters\")\n",
    "for i, (Xd, yd) in enumerate(datasets):\n",
    "    # Create a figure composed of a grid of (row=1, column=len(datasets))\n",
    "    # subfigures. Then plot in the (i+1)-th position (positions start from 1)\n",
    "    ax=plt.subplot(1, len(datasets), i+1, aspect=\"equal\")\n",
    "    # Set the figure size\n",
    "    ax.figure.set_size_inches(20, 20)\n",
    "    # Plot points: scatterplot -> points are NOT connected by lines\n",
    "    sns.scatterplot(Xd[:, 0], Xd[:, 1], hue=yd, ax=ax)"
   ]
  },
  {
   "cell_type": "code",
   "execution_count": null,
   "metadata": {},
   "outputs": [],
   "source": [
    "# We decide a-priori the number of clusters to search for each dataset\n",
    "num_clusters = [2, 2, 3, 3, 3]\n",
    "print(\"Kmeans clustering\")\n",
    "for i, ((Xd, yd), n) in enumerate(zip(datasets, num_clusters)):\n",
    "    ax=plt.subplot(1, len(datasets), i+1, aspect=\"equal\")\n",
    "    ax.figure.set_size_inches(20, 20)\n",
    "    \n",
    "    # Fit Kmeans for each dataset\n",
    "    model = KMeans(n_clusters=n)   # 2- hyperparams\n",
    "    model.fit(Xd)                   # 3- model fitting (unsupervised, y is not required)\n",
    "    y_predict = model.predict(Xd)   # 4- model testing\n",
    "    \n",
    "    # And show the resulting clusters\n",
    "    sns.scatterplot(Xd[:, 0], Xd[:, 1], hue=y_predict, ax=ax)"
   ]
  },
  {
   "cell_type": "markdown",
   "metadata": {},
   "source": [
    "K-Means is able to correctly classify only the third dataset, where cluster ha indeed globular shape, same density and size!"
   ]
  },
  {
   "cell_type": "markdown",
   "metadata": {},
   "source": [
    "## DBSCAN"
   ]
  },
  {
   "cell_type": "markdown",
   "metadata": {},
   "source": [
    "DBSCAN is a very powerful algorithm for clustering based on the concept of density and connectivity. It has three major advantages wrt to the previous two algorithms:\n",
    "- it doesn't need to know the number of clusters in advantage\n",
    "- it can cluster arbitrary shapes\n",
    "- it is able to identify and handle outliers\n",
    "\n",
    "Given `eps` and `MinPts`, we define:\n",
    "- **core point**: a point having at least `MinPts` points inside a radius of size `eps`. Can be retrieved with `model.core_sample_indices_`\n",
    "- **border point**: a point having fewer than `MinPts` in  `eps`, but it is inside the neighborhood of a core point\n",
    "- **noise point**: a point that is neither a core point nor a border point. Clustered with cluster id `-1`\n",
    "\n",
    "The algorithm starts with a random point p and retrieves all the points which are **density reachable** from p. If p is a core point the cluster is kept and the algorithm moves to the next unvisited point until all points have bees visited."
   ]
  },
  {
   "cell_type": "code",
   "execution_count": null,
   "metadata": {},
   "outputs": [],
   "source": [
    "from sklearn.cluster import DBSCAN\n",
    "from sklearn.preprocessing import StandardScaler\n",
    "\n",
    "model = DBSCAN(eps=20, min_samples=10)\n",
    "y_predict = model.fit_predict(X)\n",
    "print(\"DBSCAN purity\", tot_purity(y_predict, y))\n",
    "\n",
    "print(\"Number of outliers\", ...)\n",
    "ids, counts = np.unique(y_predict, return_counts=True)\n",
    "print(pd.DataFrame(..., columns=...)) # eventually index=['']\n",
    "\n",
    "plot3d(X, labels=y_predict)"
   ]
  },
  {
   "cell_type": "markdown",
   "metadata": {},
   "source": [
    "## How to choose Eps and MinPts?\n",
    "\n",
    "We can again resort to gridsearch cross-validation to select an hyperparameters combination that maximizes a metric. We can for example decide to use purity as a metric!\n",
    "\n",
    "**Notice**: We need to redefine `make_scorer` since the default one requires the algorithm to have a `predict()` method, but some clustering algorithms, as DBSCAN, only have `fit_predict()`"
   ]
  },
  {
   "cell_type": "code",
   "execution_count": null,
   "metadata": {},
   "outputs": [],
   "source": [
    "def make_scorer(metric):\n",
    "    def scorer(estimator, X, y):\n",
    "        y_pred = estimator.fit_predict(X)\n",
    "        return metric(y_pred, y)\n",
    "    return scorer"
   ]
  },
  {
   "cell_type": "code",
   "execution_count": null,
   "metadata": {},
   "outputs": [],
   "source": [
    "from sklearn.model_selection import GridSearchCV\n",
    "\n",
    "params = {'eps': [20], 'min_samples': range(5,20)}\n",
    "cv = GridSearchCV(..., ..., scoring=..., cv=3)\n",
    "cv = cv.fit(X, y)"
   ]
  },
  {
   "cell_type": "code",
   "execution_count": null,
   "metadata": {},
   "outputs": [],
   "source": [
    "print(cv.best_params_)\n",
    "print(\"CV score\", tot_purity(cv.best_estimator_.fit_predict(X), y))\n",
    "\n",
    "pd.DataFrame(cv.cv_results_)"
   ]
  },
  {
   "cell_type": "markdown",
   "metadata": {},
   "source": [
    "# Algorithm Comparison"
   ]
  },
  {
   "cell_type": "code",
   "execution_count": null,
   "metadata": {},
   "outputs": [],
   "source": [
    "import time\n",
    "import warnings\n",
    "\n",
    "import numpy as np\n",
    "import matplotlib.pyplot as plt\n",
    "\n",
    "from sklearn import cluster, datasets, mixture\n",
    "from sklearn.neighbors import kneighbors_graph\n",
    "from sklearn.preprocessing import StandardScaler\n",
    "from itertools import cycle, islice\n",
    "np.random.seed(0)\n",
    "\n",
    "# ============\n",
    "# Generate datasets. We choose the size big enough to see the scalability\n",
    "# of the algorithms, but not too big to avoid too long running times\n",
    "# ============\n",
    "n_samples = 1500\n",
    "noisy_circles = datasets.make_circles(n_samples=n_samples, factor=.5,\n",
    "                                      noise=.05)\n",
    "noisy_moons = datasets.make_moons(n_samples=n_samples, noise=.05)\n",
    "blobs = datasets.make_blobs(n_samples=n_samples, random_state=8)\n",
    "no_structure = np.random.rand(n_samples, 2), None\n",
    "\n",
    "# Anisotropicly distributed data\n",
    "random_state = 170\n",
    "Xd, yd = datasets.make_blobs(n_samples=n_samples, random_state=random_state)\n",
    "transformation = [[0.6, -0.6], [-0.4, 0.8]]\n",
    "X_aniso = np.dot(Xd, transformation)\n",
    "aniso = (X_aniso, yd)\n",
    "\n",
    "# blobs with varied variances\n",
    "varied = datasets.make_blobs(n_samples=n_samples,\n",
    "                             cluster_std=[1.0, 2.5, 0.5],\n",
    "                             random_state=random_state)\n",
    "\n",
    "# ============\n",
    "# Set up cluster parameters\n",
    "# ============\n",
    "\n",
    "default_base = {'quantile': .3,\n",
    "                'eps': .3,\n",
    "                'damping': .9,\n",
    "                'preference': -200,\n",
    "                'n_neighbors': 10,\n",
    "                'n_clusters': 3,\n",
    "                'min_samples': 20,\n",
    "                'xi': 0.05,\n",
    "                'min_cluster_size': 0.1}\n",
    "\n",
    "datasets = [\n",
    "    (noisy_circles, {'damping': .77, 'preference': -240,\n",
    "                     'quantile': .2, 'n_clusters': 2,\n",
    "                     'min_samples': 20, 'xi': 0.25}),\n",
    "    (noisy_moons, {'damping': .75, 'preference': -220, 'n_clusters': 2}),\n",
    "    (varied, {'eps': .18, 'n_neighbors': 2,\n",
    "              'min_samples': 5, 'xi': 0.035, 'min_cluster_size': .2}),\n",
    "    (aniso, {'eps': .15, 'n_neighbors': 2,\n",
    "             'min_samples': 20, 'xi': 0.1, 'min_cluster_size': .2}),\n",
    "    (blobs, {}),\n",
    "    (no_structure, {})]"
   ]
  },
  {
   "cell_type": "code",
   "execution_count": null,
   "metadata": {},
   "outputs": [],
   "source": [
    "plt.figure(figsize=(20, 20))\n",
    "plt.subplots_adjust(left=.02, right=.98, bottom=.001, top=.96, wspace=.05,\n",
    "                    hspace=.01)\n",
    "\n",
    "plot_num = 1\n",
    "for i_dataset, (dataset, algo_params) in enumerate(datasets):\n",
    "    # update parameters with dataset-specific values\n",
    "    params = default_base.copy()\n",
    "    params.update(algo_params)\n",
    "\n",
    "    Xd, yd = dataset\n",
    "\n",
    "    # normalize dataset for easier parameter selection\n",
    "    Xd = StandardScaler().fit_transform(Xd)\n",
    "\n",
    "    # ============\n",
    "    # Create cluster objects\n",
    "    # ============\n",
    "    clustering_algorithms = [\n",
    "        ('KMeans', cluster.KMeans(n_clusters=params['n_clusters'])),\n",
    "        ('Hierarchical (avg)', cluster.AgglomerativeClustering(\n",
    "                               n_clusters=params['n_clusters'], linkage='average')),\n",
    "        ('Hierarchical (single)', cluster.AgglomerativeClustering(\n",
    "                                  n_clusters=params['n_clusters'], linkage='single')),\n",
    "        ('Hierarchical (complete)', cluster.AgglomerativeClustering(\n",
    "                                    n_clusters=params['n_clusters'], linkage='complete')),\n",
    "        ('Hierarchical (ward)', cluster.AgglomerativeClustering(\n",
    "                                    n_clusters=params['n_clusters'], linkage='ward')),\n",
    "        ('DBSCAN', DBSCAN(eps=0.15, min_samples=3)),\n",
    "    ]\n",
    "\n",
    "    for name, algorithm in clustering_algorithms:\n",
    "        t0 = time.time()\n",
    "        algorithm.fit(Xd)\n",
    "        t1 = time.time()\n",
    "        if hasattr(algorithm, 'labels_'):\n",
    "            y_pred = algorithm.labels_.astype(np.int)\n",
    "        else:\n",
    "            y_pred = algorithm.predict(Xd)\n",
    "\n",
    "        plt.subplot(len(datasets), len(clustering_algorithms), plot_num)\n",
    "        if i_dataset == 0:\n",
    "            plt.title(name, size=18)\n",
    "\n",
    "        colors = np.array(list(islice(cycle(['#377eb8', '#ff7f00', '#4daf4a',\n",
    "                                             '#f781bf', '#a65628', '#984ea3',\n",
    "                                             '#999999', '#e41a1c', '#dede00']),\n",
    "                                      int(max(y_pred) + 1))))\n",
    "        # add black color for outliers (if any)\n",
    "        colors = np.append(colors, [\"#000000\"])\n",
    "        plt.scatter(Xd[:, 0], Xd[:, 1], s=10, color=colors[y_pred])\n",
    "\n",
    "        plt.xlim(-2.5, 2.5)\n",
    "        plt.ylim(-2.5, 2.5)\n",
    "        plt.xticks(())\n",
    "        plt.yticks(())\n",
    "        plt.text(.99, .01, ('%.2fs' % (t1 - t0)).lstrip('0'),\n",
    "                 transform=plt.gca().transAxes, size=15,\n",
    "                 horizontalalignment='right')\n",
    "        plot_num += 1\n",
    "\n",
    "plt.show()"
   ]
  }
 ],
 "metadata": {
  "kernelspec": {
   "display_name": "Python 3",
   "language": "python",
   "name": "python3"
  },
  "language_info": {
   "codemirror_mode": {
    "name": "ipython",
    "version": 3
   },
   "file_extension": ".py",
   "mimetype": "text/x-python",
   "name": "python",
   "nbconvert_exporter": "python",
   "pygments_lexer": "ipython3",
   "version": "3.7.6"
  }
 },
 "nbformat": 4,
 "nbformat_minor": 4
}
