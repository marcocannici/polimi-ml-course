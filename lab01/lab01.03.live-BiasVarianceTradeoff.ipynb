{
 "cells": [
  {
   "cell_type": "markdown",
   "metadata": {},
   "source": [
    "<table width=100%>\n",
    "<tr>\n",
    "    <td><h1 style=\"text-align: left; font-size:300%;\">\n",
    "        Bias-Variance Tradeoff\n",
    "    </h1></td>\n",
    "    <td width=\"20%\">\n",
    "    <div style=\"text-align: right\">\n",
    "    <b> Machine Learning 2021</b> <br>\n",
    "    <b>Lab01.03 - 17/03/2021<br>\n",
    "    Marco Cannici <br>\n",
    "    <a href=\"mailto:marco.cannici@polimi.it\">marco.cannici@polimi.it</a><br>\n",
    "    </div>\n",
    "    </td>\n",
    "    <td width=\"100px\"> \n",
    "        <a href=\"http://chrome.ws.dei.polimi.it/index.php?title=Machine_Learning_Bio\">\n",
    "        <img align=\"right\", width=\"100px\" src='https://chart.googleapis.com/chart?cht=qr&chl=chrome.ws.dei.polimi.it/index.php?title=Machine_Learning_Bio&chs=180x180&choe=UTF-8&chld=L|0' alt=''>\n",
    "        </a>\n",
    "    </td>\n",
    "</tr>\n",
    "</table>"
   ]
  },
  {
   "cell_type": "markdown",
   "metadata": {},
   "source": [
    "Given a dataset and a parametric function to optimize, there are usually many different ML approaches that one can take to optimally solve the problem. However, in many cases, the most powerful model may not be the best solution for the task at hand. Choosing the right model to use and having a metric to measure the performance of a trained model are two key concepts in machine learning. \n",
    "\n",
    "In this notebook we will use a simple example to show some a fundamental problem in machine learning that relates to model complexity and data availability: the **bias-variance tradeoff**."
   ]
  },
  {
   "cell_type": "markdown",
   "metadata": {},
   "source": [
    "## Statistical Learning - Recap (Regression)\n",
    "\n",
    "When performing regression analysis we would like to model the relationship between a continuous variable $f(x) \\in \\mathbb{R}$ and some input variables $x_1, x_2, .., x_p \\in \\mathbb{R}$. In general, however, **we are not able to measure the true relationship between $x$ and $f(x)$** since:\n",
    "- we can only measure the response of the system through a noisy observation (e.g., a sensor providing inconsistent readings)\n",
    "- we are not able to exactly model all the phenomena (e.g., input variables) that may influence the system response (e.g., an earthwake monitor device may detect a train passing in nearby subway and generate noisy readings because of that; we cannot model a real environment perfectly)\n",
    "\n",
    "In general, we model this uncertanty in our observations as an additive random noise $\\epsilon$: $y = f(\\mathbf{x}) + \\epsilon$\n",
    "\n",
    "where $\\mathbf{x} \\in \\mathbb{R}^p$ is a vector collecting all input variables, $y \\in \\mathbb{R}$ is the observation, and $\\epsilon$ is usually distributed as $\\mathcal{N}(0, 1)$.\n",
    "\n",
    "### Fitting a regression model\n",
    "\n",
    "Given a set of $N$ observations $(\\mathbf{x}_1, y_1), (\\mathbf{x}_2, y_2), ..., (\\mathbf{x}_N, y_N)$ we want to fit a model $\\hat{y_i} = \\hat{f}(\\mathbf{x}_i)$ in such a way that the model prediction is as close as possible to the observed response $y_i$. That is, given an **error meause** $E$, we want to find the  parameters of the model that minimize $E(y_i, \\hat{y}_i)$ $\\forall i = 1,...,N$\n",
    "\n",
    "For regression models we usually measure the model performance in terms of the mean squared error $MSE(\\mathbf{y}, \\mathbf{\\hat{y}}) = \\frac{1}{N} \\sum_{i=1}^N{(y_i - \\hat{y}_i)^2}$\n",
    "\n",
    "### Training and test\n",
    "\n",
    "In order to measure the *true* performance of the model, we usually split the set of available data into the **training** and **test** sets. We use the first to tune the model parameters while the second one to measure its performance on data that has never seen during training.\n",
    "\n",
    "We distinguish between **training error**, the error computed on training data, and **test error**, the one computed on the leave-out set. \n",
    "\n",
    "### Reducible and irreducible error\n",
    "\n",
    "When training a model we have to remember that the performance of the model depends on two quantities, which we usually call **reducible** and **irreducible** errors. Since we can only observe the system through noisy observations, even the perfect model $\\hat{f}$, that has been trained on infinitely many training data and it is able to perfectly predict them, will have an error on a test set. The additive noise $\\epsilon$ is indeed independent from the set of variables $\\mathbf{x}$ we can observe and we have no way to minimize it. We call this error **irriducible** error, while the remaining part of the error (that depends on observable variables) the **reducible error**\n",
    "\n",
    "$\\mathbb{E}(y-\\hat{y})^{2} =\\mathbb{E}[f(\\mathbf{x})+\\epsilon-\\hat{f}(\\mathbf{x})]^{2}\n",
    "=\\underbrace{[f(\\mathbf{x})-\\hat{f}(\\mathbf{x})]^{2}}_{\\text {Reducible }}+\\underbrace{\\operatorname{Var}(\\epsilon)}_{\\text {Irreducible }}$"
   ]
  },
  {
   "cell_type": "markdown",
   "metadata": {},
   "source": [
    "## Example"
   ]
  },
  {
   "cell_type": "code",
   "execution_count": null,
   "metadata": {},
   "outputs": [],
   "source": [
    "import numpy as np\n",
    "\n",
    "import matplotlib\n",
    "import matplotlib.pyplot as plt\n",
    "from cycler import cycler\n",
    "\n",
    "from sklearn.pipeline import Pipeline\n",
    "from sklearn.pipeline import make_pipeline\n",
    "from sklearn.linear_model import LinearRegression\n",
    "from sklearn.preprocessing import PolynomialFeatures\n",
    "from sklearn.model_selection import train_test_split"
   ]
  },
  {
   "cell_type": "markdown",
   "metadata": {},
   "source": [
    "Let's assume that \n",
    "- there exists an **unknown** relationship $f(x) = 2 \\cdot sin(1.5 \\cdot x)$ between an observed variable $x$ and an output $y$\n",
    "-  we are given $N$ (noisy) observation of such relationship $y = f(x) + \\epsilon$ with $\\epsilon \\sim \\mathcal{N}(0,1)$\n",
    "\n",
    "We want to fit a **regression model** (with a tunable complexity **degree**) to predict the output value $y$ given an obseration point $x$"
   ]
  },
  {
   "cell_type": "markdown",
   "metadata": {},
   "source": [
    "### Dataset creation"
   ]
  },
  {
   "cell_type": "code",
   "execution_count": null,
   "metadata": {},
   "outputs": [],
   "source": [
    "def sample_f(nsamples, minx=0.0, maxx=4.5):\n",
    "    \"\"\"\n",
    "    Return 'nsamples' samples without noise with x ranging\n",
    "    within the interval ['minx', 'maxx']\n",
    "    \n",
    "    Arguments:\n",
    "        nsamples (int): the number of samples to generate\n",
    "        minx (float): the minimum x value\n",
    "        maxx (float): the maximum x value\n",
    "    \"\"\"\n",
    "    # Generate 'nsampels' equally spaced points\n",
    "    # between the [minx, maxx] range\n",
    "    # x.shape = [nsamples]\n",
    "    x = #...\n",
    "    y = #...\n",
    "    return x, y"
   ]
  },
  {
   "cell_type": "code",
   "execution_count": null,
   "metadata": {},
   "outputs": [],
   "source": [
    "def sample_noise(nsamples, mu=0.0, var=1.0):\n",
    "    \"\"\"\n",
    "    Generate additive noise distributed as a Gaussian with mean 'mu'\n",
    "    and variance 'var'\n",
    "    \n",
    "    Arguments:\n",
    "        nsamples (int): the number of error values to generate\n",
    "        mu (float): the mean of the Gaussian distribution\n",
    "        var (float): the variance of the Gaussian distribution\n",
    "    \"\"\"\n",
    "    # Generate a noise value for each point \n",
    "    e = #...\n",
    "    return e"
   ]
  },
  {
   "cell_type": "code",
   "execution_count": null,
   "metadata": {},
   "outputs": [],
   "source": [
    "def preprocess(x, y):\n",
    "    \"\"\"\n",
    "    Preprocess the data so that we can use sklearn models\n",
    "    \"\"\"\n",
    "    \n",
    "    # We sort the points in increasing order of x so that\n",
    "    # using plt.plot() will result in a smooth function\n",
    "    \n",
    "    # WARNING: We do this operation here for convenience,\n",
    "    # and since the fitting procedure we will use does not \n",
    "    # depend on the sample order. However this is not always \n",
    "    # the case and some training procedure may benefit from \n",
    "    # random order!\n",
    "    idx_sorted = np.argsort(x)\n",
    "    x, y = x[idx_sorted], y[idx_sorted]\n",
    "    \n",
    "    # We add a dimension since sklearn wants [N, 1] input\n",
    "    # arrays, rather than [N] arrays\n",
    "    x = np.expand_dims(x, -1)\n",
    "    y = np.expand_dims(y, -1)\n",
    "\n",
    "    return x, y"
   ]
  },
  {
   "cell_type": "code",
   "execution_count": null,
   "metadata": {},
   "outputs": [],
   "source": [
    "nsamples = 30\n",
    "np.random.seed(42)\n",
    "\n",
    "# Training dataset\n",
    "# ================\n",
    "# x.shape = [nsamples], f.shape = [nsamples]\n",
    "x, f = #...\n",
    "# We sample a noise value for each data point\n",
    "# in the training set, e.shape = [nsamples]\n",
    "e = #...\n",
    "\n",
    "y = #..."
   ]
  },
  {
   "cell_type": "markdown",
   "metadata": {},
   "source": [
    "### Train / Test data splitting"
   ]
  },
  {
   "cell_type": "code",
   "execution_count": null,
   "metadata": {},
   "outputs": [],
   "source": [
    "test_perc = 0.2\n",
    "np.random.seed(42)\n",
    "\n",
    "# Split training and test\n",
    "# =======================\n",
    "x_train, x_test, y_train, y_test = #...\n",
    "\n",
    "# Preprocess data\n",
    "# ===============\n",
    "# The library we use needs the input arrays to be\n",
    "# of shape [n_samples, n_features] while our arrays\n",
    "# are now of shape [n_samples]\n",
    "x_train, y_train = #...\n",
    "x_test, y_test = #...\n",
    "\n",
    "# Plot the data\n",
    "# =============\n",
    "# Plot points with different colors based on the set\n",
    "#...\n",
    "#...\n",
    "plt.legend()\n",
    "\n",
    "# Plot the true function f using a lot of points \n",
    "# (>> nsamples) in order to have a smooth function\n",
    "tmp_x, tmp_f = #...\n",
    "plt.plot(tmp_x, tmp_f)"
   ]
  },
  {
   "cell_type": "markdown",
   "metadata": {},
   "source": [
    "### Fit the model"
   ]
  },
  {
   "cell_type": "markdown",
   "metadata": {},
   "source": [
    "We use the python package **scikit-learn** to fit a Linear model (with polynomial features of a certain degree). Since we still don't know how the model works and how it's trained (but you will soon!), in this notebook we will treat the model as a **black-box** function.\n",
    "\n",
    "Play with the degree parameter to see how the model complexity changes as the degree parameter increases."
   ]
  },
  {
   "cell_type": "code",
   "execution_count": null,
   "metadata": {},
   "outputs": [],
   "source": [
    "def fit_model(x, y, degree):\n",
    "    \"\"\"\n",
    "    Fit a polynomial model to the input data.\n",
    "    \n",
    "    Arguments:\n",
    "        x (np.ndarray): the input set of features as a numpy\n",
    "            array of shape [N]\n",
    "        y (np.ndarray): the target values as a numpy array\n",
    "            of shape [N]\n",
    "        degree (int): the polynomial degree\n",
    "            \n",
    "    Returns:\n",
    "        A polynomial model trained on the given training set\n",
    "    \"\"\"\n",
    "    \n",
    "    model = Pipeline([('poly_features', \n",
    "                       PolynomialFeatures(degree=degree)), \n",
    "                      ('linear_regression', \n",
    "                       LinearRegression())])\n",
    "    model.fit(x, y)\n",
    "    return model\n",
    "    "
   ]
  },
  {
   "cell_type": "code",
   "execution_count": null,
   "metadata": {},
   "outputs": [],
   "source": [
    "# Model fitting\n",
    "# =============\n",
    "degree = 1\n",
    "# Fit the model (on the training set!!!)\n",
    "linear = #...\n",
    "# Evaluate the model on the same training data\n",
    "# to obtain the learnt function\n",
    "y_hat = #...\n",
    "\n",
    "# First plot the data points\n",
    "#...\n",
    "\n",
    "# Then the prediction surface\n",
    "#..."
   ]
  },
  {
   "cell_type": "markdown",
   "metadata": {},
   "source": [
    "### Model performance\n",
    "\n",
    "We measure the model performance using the mean squared error $MSE(\\mathbf{y}, \\mathbf{\\hat{y}}) = \\frac{1}{N} \\sum_{i=1}^N{(y_i - \\hat{y}_i)^2}$"
   ]
  },
  {
   "cell_type": "code",
   "execution_count": null,
   "metadata": {},
   "outputs": [],
   "source": [
    "def compute_mse(y, y_hat):\n",
    "    \"\"\"\n",
    "    Computes the MLE between a target y and a predicted value y_hat\n",
    "    Note: this also equivalent to sklearn.metrics.mean_squared_error\n",
    "    \n",
    "    Arguments:\n",
    "        y (np.ndarray): An array containing target values for each data point\n",
    "        y_hat (np.ndarray): An array containing predicted values for each data point\n",
    "    \"\"\"\n",
    "    return #..."
   ]
  },
  {
   "cell_type": "code",
   "execution_count": null,
   "metadata": {},
   "outputs": [],
   "source": [
    "y_hat_train = #...\n",
    "train_error = #...\n",
    "\n",
    "y_hat_test = #...\n",
    "test_error = #...\n",
    "\n",
    "print(\"Training error: {}\".format(train_error))\n",
    "print(\"Test error: {}\".format(test_error))\n",
    "# from sklearn.metrics import mean_squared_error\n",
    "# print(mean_squared_error(y, y_hat))"
   ]
  },
  {
   "cell_type": "markdown",
   "metadata": {},
   "source": [
    "### Model complexity as a function of degree"
   ]
  },
  {
   "cell_type": "markdown",
   "metadata": {},
   "source": [
    "Due to the presence of noise and to the limited number of data points, fitting the most powerful model may not be the right choice, especially if the true (but unknown) reationship describing the data is simple, as in our case. By using a complex model we may indeed start \"to learn the noise in the data\", i.e., try to extract a relationship between $x$ and the noise that doesn't actually exist. \n",
    "\n",
    "We can visualize this behaviour by plotting the learnt models as a function of the model complexity (i.e., the polynomial degree in our case). As the degree increases (from light to intense colors) the model transitions from smooth functions to noisy functions that almost perfectly model the data (including noise!). Since the model gets more and more powerful, it starts to \"learn\" the training dataset we are using, rather than learning the general relationship between input and output values. This behaviour is usualy called **overfitting**."
   ]
  },
  {
   "cell_type": "code",
   "execution_count": null,
   "metadata": {},
   "outputs": [],
   "source": [
    "degrees = range(1, 15)\n",
    "\n",
    "# First plot the data points\n",
    "plt.scatter(x_train, y_train, label=\"train\")\n",
    "plt.scatter(x_test, y_test, label=\"test\")\n",
    "\n",
    "# Setup colors \n",
    "cmap = plt.get_cmap('Reds')\n",
    "colors = cmap(np.linspace(0.2,1, len(degrees)))\n",
    "plt.gca().set_prop_cycle(cycler('color', colors))\n",
    "\n",
    "# Cycle through all degrees and train a model for\n",
    "# each degree. Then also keep track of all the\n",
    "# trained models within a list 'trained_models'\n",
    "trained_models = []\n",
    "for ...:\n",
    "    # Fit the model with a specific degree\n",
    "    #...\n",
    "    trained_models.append(model)\n",
    "    # Compute train predictions\n",
    "    #...\n",
    "    # Then plot the prediction surface\n",
    "    #...\n",
    "\n",
    "# Plot the true function\n",
    "plt.plot(tmp_x, tmp_f, \"b--\", label=\"True function\")\n",
    "plt.legend()"
   ]
  },
  {
   "cell_type": "markdown",
   "metadata": {},
   "source": [
    "### Train and Test error as a function of degree"
   ]
  },
  {
   "cell_type": "markdown",
   "metadata": {},
   "source": [
    "By looking at the previous graphs, we expect two behaviours:\n",
    "- The **training error** (computed on training, blue, points) will **decrease** as the model complexity increases, since intense colored lines are more close to training points\n",
    "- The **test error** will initially decrease (very simple models are too simple) and then eventually start to increase"
   ]
  },
  {
   "cell_type": "code",
   "execution_count": null,
   "metadata": {},
   "outputs": [],
   "source": [
    "# Compute train and test performance\n",
    "# as a function of the model degree\n",
    "\n",
    "train_errors = []\n",
    "test_errors = []\n",
    "for model in trained_models:\n",
    "    y_hat_train = #...\n",
    "    err_train = #...\n",
    "    train_errors.append(...)\n",
    "    \n",
    "    y_hat_test = #...\n",
    "    err_test = #...\n",
    "    test_errors.append(...)\n",
    "    \n",
    "min_idx = #...\n",
    "min_test_deg = #...\n",
    "min_test_err = #...\n",
    "\n",
    "plt.plot(degrees, train_errors, label=\"train\")\n",
    "plt.plot(degrees, test_errors, label=\"test\")\n",
    "plt.plot(min_test_deg, min_test_err, \"x\")\n",
    "plt.legend()"
   ]
  },
  {
   "cell_type": "markdown",
   "metadata": {},
   "source": [
    "When training a model we always search for a good compromise between model complexity and accuracy.\n",
    "\n",
    "Degree $3$ in this case is the best compromise since it provides the best performance on a set of never seen samples."
   ]
  },
  {
   "attachments": {
    "immagine.png": {
     "image/png": "[encoded data removed]"
    }
   },
   "cell_type": "markdown",
   "metadata": {},
   "source": [
    "## Bias-Variance tradeoff - Recap\n",
    "\n",
    "This is a problem we have to face while training any machine learning model and it is closely related to the presence of *noise in the data* and the most often very *scarce availability of training pairs*. \n",
    "\n",
    "Most importantly, the U-shape of the test MSE curve turns out to be the result of *two competing properties of statistical learning methods*, i.e., the **bias** and **variance**, which are both related to the concept of *hypothesis space*.\n",
    "\n",
    "### Hypothesis space\n",
    "\n",
    "When we make the choice to solve a statistical problem using a specific class of models (e.g., polynomial functions of a specific fixed degree), we are effectively limiting the search space of the best model to a specific class of functions. We call the space of functions that can be represented by our model the **hypothesis space** $\\mathcal{H}$.\n",
    "\n",
    "![immagine.png](attachment:immagine.png)\n",
    "\n",
    "In our example, if we fix the polynomial degree to 1, we are effectively considering the *hypothesis space of lines*  and, by fitting the model, we are searching for the best line describing the data. The hypothesis space of lines will intuitively be quite **small** and probably **very far away** from the class of functions where the true function $f$ is actually contained (the class of sinusoidal functions)."
   ]
  },
  {
   "attachments": {
    "immagine.png": {
     "image/png": "[encoded data removed]"
    }
   },
   "cell_type": "markdown",
   "metadata": {},
   "source": [
    "### Bias and Variance\n",
    "\n",
    "A model $\\hat{f}_{D_1}$ trained on the dataset $D_1$ is a particular point in the hypothesis space $\\mathcal{H}$. In other words, given a certain choice for the class of models, no matter the size of the training set, all the models $f_{D_i}$ will be inside the hypothesis space $\\mathcal{H}$.\n",
    "\n",
    "This implies that, if we choose a class of models that is not exactly the class of models of the target function (this is often the case when we model very complex behaviors), our predictions will always be a little bit different from the actual ones, no matter how well we fit the model. This concept (related to the error we commit by choosing a particular model), is called **bias**. We can think of the bias as the distance between the true function and the expected model, obtained by averaging models in $\\mathcal{H}$ trained on every possible dataset $D_i$ of a fixed size.\n",
    "\n",
    "Intuitively, the larger the hypothesis space, the larger the type (and complexity) of functions we can represent with our model class. However, choosing a large hypothesis space is usually connected with a greater variability of predictions. Indeed, since functions can have very different shapes in a large $\\mathcal{H}$, we may end up obtaining very different $\\hat{f}_{D_i}$ by training the *same model* on even slightly different datasets $D_i$. The tendence of a model to produce different estimations if trained with different datasets is called **variance**.\n",
    "\n",
    "![immagine.png](attachment:immagine.png)\n",
    "\n",
    "Intuitively, **the larger the $\\mathcal{H}$, the more complex/flexible the model and the larger the variance (connected to the hypothesis space size) but the lower the bias (connected to the distance from the true function $f$)**"
   ]
  },
  {
   "cell_type": "markdown",
   "metadata": {},
   "source": [
    "### Visualize model bias and variance \n",
    "\n",
    "Let's try to fit the same model (fixed degree) with different datasets (of the same size) to have a first visual understanding on the concepts of bias and variance.\n",
    "\n",
    "*We expect simple models (low degrees) to produce functions that look all very similar and complex models (high degrees) to produce functions that have very different shapes.*"
   ]
  },
  {
   "cell_type": "code",
   "execution_count": null,
   "metadata": {},
   "outputs": [],
   "source": [
    "np.random.seed(0)\n",
    "\n",
    "ndatasets = 100\n",
    "nsamples = 30\n",
    "degree = 15\n",
    "var = 1.0\n",
    "\n",
    "# Fix the true distribution\n",
    "x_true, f_true = sample_f(nsamples)\n",
    "\n",
    "cmap = plt.get_cmap('Blues')\n",
    "colors = cmap(np.linspace(0,1, ndatasets))\n",
    "plt.gca().set_prop_cycle(cycler('color', colors))\n",
    "\n",
    "# For each x point, we keep track of the model response.\n",
    "# Each model will have the same complexity (flexibility) but\n",
    "# will be trained on a different training set that varies for\n",
    "# a small error\n",
    "y_sum = np.zeros([nsamples, 1])\n",
    "\n",
    "for i in range(ndatasets):\n",
    "    # Create a new dataset, i.e., add a \n",
    "    # Gaussian noise (different for each trial)\n",
    "    #...\n",
    "    # preprocess data\n",
    "    x, y = #...\n",
    "\n",
    "    # Fit the model and plot the train surface\n",
    "    # ...\n",
    "    \n",
    "    # Update the mean (we first sum all the points and then\n",
    "    # divide by the number of trials to obtain the mean)\n",
    "    y_sum #...\n",
    "\n",
    "y_mean = #...\n",
    "                          \n",
    "plt.plot(x_true, y_mean, color=\"yellow\", label=\"mean\")\n",
    "plt.plot(x_true, f_true, color=\"red\", label=\"true\")\n",
    "plt.legend()"
   ]
  },
  {
   "cell_type": "markdown",
   "metadata": {},
   "source": [
    "By running the cell with different **degree** values we observe that:\n",
    "\n",
    "- If we set the degree to low values (e.g., 1 to 4) we see that predicted blue functions look all very similar to each other, while they are very different if we set very high degree values (e.g., 10-15). Therefore, we expect the **variance** to be low for low degree values and high for high degrees.\n",
    "\n",
    "- On the contrary, if we look at the mean prediction (computed by averaging predictions produced for a point by all models $\\hat{y}_j = \\frac{1}{M} \\sum_{i=1}^{M}{\\hat{f}_{D_i}(x_j)}$) we see that it is very different from the true function for small degrees (simple models) but it looks almost the same as the true function for very high degree values. Therefore, we expect the **bias** to degrease as the degree increases."
   ]
  },
  {
   "cell_type": "markdown",
   "metadata": {},
   "source": [
    "### Computing MSE bias and variance\n",
    "\n",
    "We know that, if we use the MSE error metric to measure the model performance, we can compute the model variance and bias with the following formula:\n",
    "\n",
    "${\\Large\\mathbb{E}}_{D_i}\\left[\\left(y_j - \\hat{f}_j^{D_i}\\right)\\right]$ = ${\\Large\\mathbb{E}}_{D_i}\\left[\\left(f_j + \\epsilon - \\hat{f}_j^{D_i}\\right) \\right] = \\underbrace{\\left( f_j - {\\Large\\mathbb{E}}_{D_i}\\left[\\hat{f}_j^{D_i}\\right] \\right)^2}_{bias^2} + {\\large Var}_{D_i}\\left[\\hat{f}_j^{D_i}\\right] + {\\large Var}[\\epsilon]$ \n",
    "\n",
    "where the expected value is computed over models fitted on different training datasets $D_i$ all of the same size. Notice: the formula provides the expected values of the MSE for a specific data point (i.e., the prediction for a fixed $x_j$); we have to averare over all points $x_j$ to obtain a single value representing the behavior over all the input domain"
   ]
  },
  {
   "cell_type": "code",
   "execution_count": null,
   "metadata": {},
   "outputs": [],
   "source": [
    "def model_bias_variance(degree, noise_var, nsamples, ndatasets):\n",
    "    \"\"\"\n",
    "    Compute the bias (squared) and variance for a polynomial model with a fixed degree\n",
    "    \n",
    "    Arguments:\n",
    "        degree (int): the degree of the polynomial\n",
    "        noise_var (float): the noise variance\n",
    "        nsamples (int): how many samples in each dataset\n",
    "        ndatasets (int): how many dataset to use to compute the expected value\n",
    "    \"\"\"\n",
    "    # Set the seed\n",
    "    np.random.seed(42)\n",
    "    \n",
    "    # Fix the true distribution\n",
    "    x_true, f_true = sample_f(nsamples)\n",
    "    \n",
    "    y_hats = []\n",
    "    for i in range(ndatasets):\n",
    "        # Create a new dataset (different for each dataset)\n",
    "        # Add a Gaussian noise with noise_var\n",
    "        e = #...\n",
    "        y = #...\n",
    "        x, y = preprocess(x_true, y)\n",
    "\n",
    "        # fit the model\n",
    "        model = #...       \n",
    "        y_hat = #...\n",
    "        y_hats.append(y_hat)\n",
    "        \n",
    "    # From a list of ndatasets arrays of shape [nsamples, 1],\n",
    "    # to a [ndatasets, nsamples] array\n",
    "    y_hats = np.stack(y_hats, axis=0)[:,:,0]\n",
    "    y_mean = #...\n",
    "    # Bias[y_hat_0]^2 = (f_0 - E[y_hat_0])^2\n",
    "    bias2 = #...\n",
    "    # Var[y_hat_0]\n",
    "    var = #...\n",
    "    \n",
    "    return bias2, var\n",
    "        "
   ]
  },
  {
   "cell_type": "code",
   "execution_count": null,
   "metadata": {
    "scrolled": true
   },
   "outputs": [],
   "source": [
    "degrees = range(1, 15)\n",
    "nsamples = 30\n",
    "ndatasets = 100\n",
    "noise_var = 1.0\n",
    "\n",
    "models_bias2 = []\n",
    "models_var = []\n",
    "\n",
    "# Compute the bias^2 and variance for each choice of degree\n",
    "for degree in degrees:\n",
    "    bias2, var = #...\n",
    "    models_bias2.append(bias2)\n",
    "    models_var.append(var)\n",
    "    \n",
    "noise_var = #... (a constant noise for each degree)\n",
    "tot_error = #...\n",
    "reducible_error = #...\n",
    "\n",
    "# Find best tradeoff using tot_error\n",
    "min_idx = #...\n",
    "min_err_x = #...\n",
    "min_err_y = #...\n",
    "    \n",
    "plt.plot(degrees, models_bias2, \"b\", label=\"bias[y_hat]^2\")\n",
    "plt.plot(degrees, models_var, \"g\", label=\"var[y_hat]\")\n",
    "plt.plot(degrees, noise_var, \"k--\", label=\"var[f]\")\n",
    "plt.plot(degrees, tot_error, \"r\", label=\"bias[y_hat]^2 + var[y_hat] + var[f]\")\n",
    "plt.plot(degrees, reducible_error, color=\"orange\", label=\"bias[y_hat]^2 + var[y_hat]\")\n",
    "plt.plot(min_err_x, min_err_y, \"rx\")\n",
    "\n",
    "plt.legend()"
   ]
  },
  {
   "cell_type": "markdown",
   "metadata": {},
   "source": [
    "As expected we see that\n",
    "- the bias decreases as the complexity/flexibility increases\n",
    "- the variance increases as the complexity/flexibility increases\n",
    "\n",
    "Most importantly, we found that the best compromise for the bias/variance tradeoff is choosing a degree of $3$, which we already discovered by analyzing the MSE error on the testing set!"
   ]
  }
 ],
 "metadata": {
  "kernelspec": {
   "display_name": "Python 3",
   "language": "python",
   "name": "python3"
  },
  "language_info": {
   "codemirror_mode": {
    "name": "ipython",
    "version": 3
   },
   "file_extension": ".py",
   "mimetype": "text/x-python",
   "name": "python",
   "nbconvert_exporter": "python",
   "pygments_lexer": "ipython3",
   "version": "3.7.6"
  }
 },
 "nbformat": 4,
 "nbformat_minor": 2
}
