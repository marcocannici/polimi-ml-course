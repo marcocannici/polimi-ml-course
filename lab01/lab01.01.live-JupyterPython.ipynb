{
 "cells": [
  {
   "cell_type": "markdown",
   "metadata": {},
   "source": [
    "<table width=100%>\n",
    "<tr>\n",
    "    <td><h1 style=\"text-align: left; font-size:300%;\">\n",
    "        Python - A brief introduction\n",
    "    </h1></td>\n",
    "    <td width=\"20%\">\n",
    "    <div style=\"text-align: right\">\n",
    "    <b> Machine Learning 2021</b> <br>\n",
    "    <b>Lab01.01 - 17/03/2021<br>\n",
    "    Marco Cannici <br>\n",
    "    <a href=\"mailto:marco.cannici@polimi.it\">marco.cannici@polimi.it</a><br>\n",
    "    </div>\n",
    "    </td>\n",
    "    <td width=\"100px\"> \n",
    "        <a href=\"http://chrome.ws.dei.polimi.it/index.php?title=Machine_Learning_Bio\">\n",
    "        <img align=\"right\", width=\"100px\" src='https://chart.googleapis.com/chart?cht=qr&chl=chrome.ws.dei.polimi.it/index.php?title=Machine_Learning_Bio&chs=180x180&choe=UTF-8&chld=L|0' alt=''>\n",
    "        </a>\n",
    "    </td>\n",
    "</tr>\n",
    "</table>"
   ]
  },
  {
   "cell_type": "markdown",
   "metadata": {},
   "source": [
    "Official tutorial: <a href='https://docs.python.org/3/tutorial/index.html#tutorial-index'>https://docs.python.org/3/tutorial/index.html#tutorial-index</a>"
   ]
  },
  {
   "cell_type": "code",
   "execution_count": null,
   "metadata": {},
   "outputs": [],
   "source": [
    "# Run this code to make Jupyter print every\n",
    "# printable statement and not just the last one\n",
    "from IPython.core.interactiveshell import InteractiveShell\n",
    "InteractiveShell.ast_node_interactivity = \"all\""
   ]
  },
  {
   "cell_type": "markdown",
   "metadata": {},
   "source": [
    "# Features\n",
    "\n",
    "Python is an **interpreted language**: the instructions are executed directly, without a compiling phase needed.\n",
    "\n",
    "However some interpreted languages (e.g. Python and Javascript) use an intermediate representation: Python code is compiled into bytecode that is interpreted by CPython.\n",
    "\n",
    "The intermediate representation is compiled each time a change in the source is detected before execution."
   ]
  },
  {
   "cell_type": "markdown",
   "metadata": {},
   "source": [
    "# Versions"
   ]
  },
  {
   "cell_type": "code",
   "execution_count": null,
   "metadata": {
    "scrolled": true
   },
   "outputs": [],
   "source": [
    "from sys import version\n",
    "version"
   ]
  },
  {
   "cell_type": "markdown",
   "metadata": {},
   "source": [
    "# Syntax and semantics"
   ]
  },
  {
   "cell_type": "markdown",
   "metadata": {},
   "source": [
    "Python uses **whitespace indentation**, rather than curly brackets or keywords, to delimit blocks of code.\n",
    "\n",
    "An increase in indentation comes after certain statements (if, for, def, etc...); a decrease in indentation signifies the end of the current block.\n",
    "\n",
    "The standard indentation is 4 spaces or 1 tab"
   ]
  },
  {
   "cell_type": "code",
   "execution_count": null,
   "metadata": {},
   "outputs": [],
   "source": [
    "def my_function(x):\n",
    "    if x > 0:\n",
    "        print(\"positive\")\n",
    "    else:\n",
    "        print(\"non-positive\")\n",
    "        \n",
    "def twovalues_function(x, y):\n",
    "    a = x + y\n",
    "    b = x * y\n",
    "    return a, b"
   ]
  },
  {
   "cell_type": "code",
   "execution_count": null,
   "metadata": {},
   "outputs": [],
   "source": [
    "x = 0"
   ]
  },
  {
   "cell_type": "code",
   "execution_count": null,
   "metadata": {},
   "outputs": [],
   "source": [
    "if x > 0:\n",
    "    print(\"Hello\")\n",
    "print(\"World\")"
   ]
  },
  {
   "cell_type": "code",
   "execution_count": null,
   "metadata": {},
   "outputs": [],
   "source": [
    "if x > 0:\n",
    "    print(\"Hello\")\n",
    "    print(\"World\")"
   ]
  },
  {
   "cell_type": "markdown",
   "metadata": {},
   "source": [
    "# Data types\n",
    "\n",
    "You can retrieve the type of a variable with the `type()` function"
   ]
  },
  {
   "cell_type": "code",
   "execution_count": null,
   "metadata": {},
   "outputs": [],
   "source": [
    "# Basic data types\n",
    "type(0)\n",
    "type(0.0)\n",
    "type(0+0j)\n",
    "type(\"0\")\n",
    "type(True)\n",
    "type(None)"
   ]
  },
  {
   "cell_type": "code",
   "execution_count": null,
   "metadata": {},
   "outputs": [],
   "source": [
    "#casting int to string\n"
   ]
  },
  {
   "cell_type": "code",
   "execution_count": null,
   "metadata": {},
   "outputs": [],
   "source": [
    "#casting string to int\n"
   ]
  },
  {
   "cell_type": "markdown",
   "metadata": {},
   "source": [
    "# Typing\n",
    "\n",
    "Python is **dynamically typed**. This means that\n",
    "- we don't have to specify the type of each variable (statically, i.e., before code execution) at initialization\n",
    "- we can also modify their type at run-time"
   ]
  },
  {
   "cell_type": "code",
   "execution_count": null,
   "metadata": {},
   "outputs": [],
   "source": [
    "# Change the type of a variable at run-time\n",
    "x = 123\n",
    "type(x)\n",
    "\n",
    "x = #...\n",
    "type(x)\n",
    "\n",
    "x"
   ]
  },
  {
   "cell_type": "markdown",
   "metadata": {},
   "source": [
    "Contrary to compiled languages, **there is no compiler that checks if an operation can be performed on a specific variable** based on its type. Since type can change dynamically, this check is only performed just before executing the operation."
   ]
  },
  {
   "cell_type": "code",
   "execution_count": null,
   "metadata": {},
   "outputs": [],
   "source": [
    "# Python does not statically (before execution) check that code is correct, since variables may change type\n",
    "# during execution. What does the following cell give as result?\n",
    "x = 123\n",
    "# Perform an opration that is not defined for integers\n",
    "x # ..."
   ]
  },
  {
   "cell_type": "code",
   "execution_count": null,
   "metadata": {},
   "outputs": [],
   "source": [
    "str(x).split(\"2\")"
   ]
  },
  {
   "cell_type": "markdown",
   "metadata": {},
   "source": [
    "# Variables"
   ]
  },
  {
   "cell_type": "code",
   "execution_count": null,
   "metadata": {},
   "outputs": [],
   "source": [
    "# Simple variables assignment\n",
    "a = 5\n",
    "\n",
    "# Different variables with the same value\n",
    "a = b = c = #...\n",
    "\n",
    "# Different variables with different values\n",
    "# with tuple\n",
    "a, b, c = #...\n",
    "# with list\n",
    "a, b, c = #...\n",
    "# with a function returning multiple values\n",
    "a, b = #..."
   ]
  },
  {
   "cell_type": "markdown",
   "metadata": {},
   "source": [
    "# Simple math and operations"
   ]
  },
  {
   "cell_type": "code",
   "execution_count": null,
   "metadata": {},
   "outputs": [],
   "source": [
    "# Increment/decrement\n",
    "x = 0\n",
    "\n",
    "# (there are not the '++' and '--' operators)\n",
    "# ++\n",
    "\n",
    "# --"
   ]
  },
  {
   "cell_type": "code",
   "execution_count": null,
   "metadata": {},
   "outputs": [],
   "source": [
    "# Exponentiation\n",
    "base = 2\n",
    "exponent = 10\n",
    "\n",
    "# with the ** syntax\n",
    "\n",
    "# with pow\n"
   ]
  },
  {
   "cell_type": "code",
   "execution_count": null,
   "metadata": {},
   "outputs": [],
   "source": [
    "# // returns only the integer part of the result (result rounded down)\n",
    "# / returns a float result\n",
    "# NB: in Python 2 / returns an integer value when both members are integers\n",
    "x = 6 // 10\n",
    "x\n",
    "type(x)\n",
    "\n",
    "x = 6 / 10\n",
    "x\n",
    "type(x)"
   ]
  },
  {
   "cell_type": "markdown",
   "metadata": {},
   "source": [
    "# Control structures"
   ]
  },
  {
   "cell_type": "markdown",
   "metadata": {},
   "source": [
    "## - `if`\n",
    "```python\n",
    "if <condition>:\n",
    "    <code>\n",
    "elif <condition>:\n",
    "    <code>\n",
    "else:\n",
    "    <code>\n",
    "```\n",
    "\n",
    "Note: there is no `switch` operator in Python!"
   ]
  },
  {
   "cell_type": "code",
   "execution_count": null,
   "metadata": {},
   "outputs": [],
   "source": [
    "x = 101\n",
    "\n",
    "if x < 1:\n",
    "    print(\"if\")\n",
    "elif x < 2:\n",
    "    print(\"elif_1\")\n",
    "elif x < 3:\n",
    "    print(\"elif_2\")\n",
    "elif x < 100:\n",
    "    print(\"elif_n\")\n",
    "else:\n",
    "    print(\"else\")\n"
   ]
  },
  {
   "cell_type": "markdown",
   "metadata": {},
   "source": [
    "## - `if` (inline)\n",
    "```python\n",
    "value = <if-value> if <condition> else <else-value>\n",
    "```"
   ]
  },
  {
   "cell_type": "code",
   "execution_count": null,
   "metadata": {},
   "outputs": [],
   "source": [
    "# value = is True if x < 1, otherwise False\n",
    "# ..."
   ]
  },
  {
   "cell_type": "markdown",
   "metadata": {},
   "source": [
    "## - `while`\n",
    "\n",
    "```python\n",
    "while <condition-if-false-exit>:\n",
    "    <code>\n",
    "```\n",
    "\n",
    "Note: There is no `do-while` in python! But you can implement it by yourself with simple python code!"
   ]
  },
  {
   "cell_type": "code",
   "execution_count": null,
   "metadata": {},
   "outputs": [],
   "source": [
    "a = 0\n",
    "b = 5\n",
    "\n",
    "x = a\n",
    "while x < b:\n",
    "    print(x)\n",
    "    x += 1"
   ]
  },
  {
   "cell_type": "markdown",
   "metadata": {},
   "source": [
    "## - `for`\n",
    "\n",
    "```python\n",
    "for <value> in <iterator>:\n",
    "    <code>\n",
    "```\n",
    "\n",
    "The `for` operator cycle through an [*iterator*](https://wiki.python.org/moin/Iterator) object extracting an element at a time from the iterator. Some basic python types impement the iterator interface, (i.e., `list`, `tuple`) or you can implement a custom one by yourself."
   ]
  },
  {
   "cell_type": "code",
   "execution_count": null,
   "metadata": {},
   "outputs": [],
   "source": [
    "# looping over the range iterator, printing each value\n",
    "# ...\n",
    "    \n",
    "# looping over lists, printing each value\n",
    "# ...\n",
    "\n",
    "# looping through two lists (zip iterator), printing each value\n",
    "list1 = [1,2,3]\n",
    "list2 = [4,5,6]\n",
    "# ..."
   ]
  },
  {
   "cell_type": "markdown",
   "metadata": {},
   "source": [
    "# Lists"
   ]
  },
  {
   "cell_type": "code",
   "execution_count": null,
   "metadata": {},
   "outputs": [],
   "source": [
    "type([0,1,2])"
   ]
  },
  {
   "cell_type": "markdown",
   "metadata": {},
   "source": [
    "## - Initialization"
   ]
  },
  {
   "cell_type": "code",
   "execution_count": null,
   "metadata": {},
   "outputs": [],
   "source": [
    "lst = []"
   ]
  },
  {
   "cell_type": "code",
   "execution_count": null,
   "metadata": {},
   "outputs": [],
   "source": [
    "lst = [1, 3, 5, 7, 9]"
   ]
  },
  {
   "cell_type": "markdown",
   "metadata": {},
   "source": [
    "Since python is dynamically typed, we are also allowed to mix different types within lists"
   ]
  },
  {
   "cell_type": "code",
   "execution_count": null,
   "metadata": {},
   "outputs": [],
   "source": [
    "# List with mixed types\n",
    "# ..."
   ]
  },
  {
   "cell_type": "markdown",
   "metadata": {},
   "source": [
    "## - Length"
   ]
  },
  {
   "cell_type": "code",
   "execution_count": null,
   "metadata": {},
   "outputs": [],
   "source": [
    "len(lst)"
   ]
  },
  {
   "cell_type": "markdown",
   "metadata": {},
   "source": [
    "## - Read from lists"
   ]
  },
  {
   "cell_type": "code",
   "execution_count": null,
   "metadata": {},
   "outputs": [],
   "source": [
    "lst = [\"a\",\"b\",\"c\"]"
   ]
  },
  {
   "cell_type": "code",
   "execution_count": null,
   "metadata": {},
   "outputs": [],
   "source": [
    "# by index (e.g., 2)\n",
    "# ..."
   ]
  },
  {
   "cell_type": "code",
   "execution_count": null,
   "metadata": {},
   "outputs": [],
   "source": [
    "# last element\n",
    "# ...\n",
    "\n",
    "# last but one element\n",
    "# ..."
   ]
  },
  {
   "cell_type": "code",
   "execution_count": null,
   "metadata": {},
   "outputs": [],
   "source": [
    "# whole list\n",
    "lst\n",
    "# with the special vale ':'\n",
    "# ..."
   ]
  },
  {
   "cell_type": "markdown",
   "metadata": {},
   "source": [
    "# - Slicing\n",
    "\n",
    "In Python we refer to slicing as the operation of selecting a set of elements from a list. \n",
    "\n",
    "```python\n",
    "list[start_idx:end_idx:every]\n",
    "```"
   ]
  },
  {
   "cell_type": "code",
   "execution_count": null,
   "metadata": {},
   "outputs": [],
   "source": [
    "lst = [0,1,2,3,4,5]\n",
    "start, end = 1, 4"
   ]
  },
  {
   "cell_type": "code",
   "execution_count": null,
   "metadata": {},
   "outputs": [],
   "source": [
    "# Select elements from index start to index end (excluded)\n",
    "lst[start:end:1]"
   ]
  },
  {
   "cell_type": "markdown",
   "metadata": {},
   "source": [
    "It is not required to provide all the fields. Indeed, if not provided, the following will be used as default:\n",
    "\n",
    "```python\n",
    "list[0:len(list):1]\n",
    "```"
   ]
  },
  {
   "cell_type": "code",
   "execution_count": null,
   "metadata": {},
   "outputs": [],
   "source": [
    "# Select from 'start' and then the remaining\n",
    "# end = len(lst), every = 1\n",
    "# ..."
   ]
  },
  {
   "cell_type": "code",
   "execution_count": null,
   "metadata": {},
   "outputs": [],
   "source": [
    "# Select from 0 to len(lst) every 1 (use defaults)\n",
    "# ..."
   ]
  },
  {
   "cell_type": "code",
   "execution_count": null,
   "metadata": {},
   "outputs": [],
   "source": [
    "# Select from 0 to len(lst) every 1 (use defaults)\n",
    "# ..."
   ]
  },
  {
   "cell_type": "code",
   "execution_count": null,
   "metadata": {},
   "outputs": [],
   "source": [
    "# Select all, every 2 elements\n",
    "# ..."
   ]
  },
  {
   "cell_type": "code",
   "execution_count": null,
   "metadata": {},
   "outputs": [],
   "source": [
    "# Select all, every -1 elements\n",
    "# ..."
   ]
  },
  {
   "cell_type": "markdown",
   "metadata": {},
   "source": [
    "## - Replace elements"
   ]
  },
  {
   "cell_type": "code",
   "execution_count": null,
   "metadata": {},
   "outputs": [],
   "source": [
    "i = 2\n",
    "value = \"z\"\n",
    "\n",
    "# Replace value at index 2 with 'value'\n",
    "# ..."
   ]
  },
  {
   "cell_type": "markdown",
   "metadata": {},
   "source": [
    "We can also combine slicing with assign, by providing a list of elements (having the same length of the sliced list)"
   ]
  },
  {
   "cell_type": "code",
   "execution_count": null,
   "metadata": {},
   "outputs": [],
   "source": [
    "# Replace elements from 0 to 3 (excluded) with 100, 200, 300 respectively\n",
    "# ..."
   ]
  },
  {
   "cell_type": "markdown",
   "metadata": {},
   "source": [
    "## - Insert elements"
   ]
  },
  {
   "cell_type": "code",
   "execution_count": null,
   "metadata": {},
   "outputs": [],
   "source": [
    "# append()\n",
    "lst = [\"a\",\"b\",\"c\"]\n",
    "elem = \"x\"\n",
    "\n",
    "# ..."
   ]
  },
  {
   "cell_type": "code",
   "execution_count": null,
   "metadata": {},
   "outputs": [],
   "source": [
    "# Note: strings are list of characters\n",
    "s = \"abcde\"\n",
    "\n",
    "# The first element\n",
    "# ...\n",
    "\n",
    "# Reverse of a string\n",
    "# ...\n",
    "\n",
    "# Concatenate\n",
    "# ..."
   ]
  },
  {
   "cell_type": "code",
   "execution_count": null,
   "metadata": {},
   "outputs": [],
   "source": [
    "# lst.insert() adds an element at a specific position (after the provided index)\n",
    "i = 3\n",
    "elem = 0\n",
    "\n",
    "# Add 'elem' after index ''\n",
    "# ..."
   ]
  },
  {
   "cell_type": "markdown",
   "metadata": {},
   "source": [
    "# Function"
   ]
  },
  {
   "cell_type": "markdown",
   "metadata": {},
   "source": [
    "## - Definition & call"
   ]
  },
  {
   "cell_type": "code",
   "execution_count": null,
   "metadata": {},
   "outputs": [],
   "source": [
    "# by convention the name of a function must be lower case with underscores between different words\n",
    "def function_name(parameters):\n",
    "    # function variables\n",
    "    # function body\n",
    "    return 0\n",
    "\n",
    "value = function_name(\"a\")\n",
    "value"
   ]
  },
  {
   "cell_type": "markdown",
   "metadata": {},
   "source": [
    "## - `return` statement"
   ]
  },
  {
   "cell_type": "code",
   "execution_count": null,
   "metadata": {},
   "outputs": [],
   "source": [
    "def test_no_return():\n",
    "    a = 1\n",
    "\n",
    "value = test_no_return()\n",
    "print(value)"
   ]
  },
  {
   "cell_type": "code",
   "execution_count": null,
   "metadata": {},
   "outputs": [],
   "source": [
    "def test_return_multiple_values():\n",
    "    return (0, 1)\n",
    "\n",
    "retval = test_return_multiple_values()\n",
    "type(retval)\n",
    "\n",
    "a, b = retval\n",
    "\n",
    "a, b = test_return_multiple_values()\n",
    "print(a, b)"
   ]
  },
  {
   "cell_type": "markdown",
   "metadata": {},
   "source": [
    "## - Default parameter values"
   ]
  },
  {
   "cell_type": "code",
   "execution_count": null,
   "metadata": {},
   "outputs": [],
   "source": [
    "# In the function call a parameter is optional if a default value is defined \n",
    "# for it in the header of the function\n",
    "\n",
    "def test_default_parameters(param1, param2 = \"_1\", param3 = \"_2\", param4 = \"_3\"):\n",
    "    print(param1, param2, param3, param4)\n",
    "    \n",
    "test_default_parameters(0)\n",
    "test_default_parameters(0,1,2,3)"
   ]
  },
  {
   "cell_type": "code",
   "execution_count": null,
   "metadata": {},
   "outputs": [],
   "source": [
    "# Using the k=v syntax the parameters can be defined out of order \n",
    "\n",
    "test_default_parameters(param1 = 0, param2 = 1, param3 = 2, param4 = 3)\n",
    "test_default_parameters(param1 = 0, param4 = 3)\n",
    "test_default_parameters(param4 = 3, param1 = 0)"
   ]
  },
  {
   "cell_type": "markdown",
   "metadata": {},
   "source": [
    "# Class & object"
   ]
  },
  {
   "cell_type": "code",
   "execution_count": null,
   "metadata": {},
   "outputs": [],
   "source": [
    "# the class names follow the UpperCaseCamelCase convention\n",
    "class TestClass:\n",
    "    \"\"\"... example of documentation of the class ...\"\"\"\n",
    "    \n",
    "    __attr_private = \"private\"  \n",
    "    \n",
    "    def __init__(self, attr1, attr2 = \"default_value2\"):\n",
    "        self.__attr1 = attr1\n",
    "        self.attr2 = attr2\n",
    "    \n",
    "    # the first parameter must always be 'self' (the instance object is \n",
    "    # automatically passed as the first argument)\n",
    "    def test_function(self, param1):\n",
    "        return (self.__attr_private, self.__attr1, param1)"
   ]
  },
  {
   "cell_type": "code",
   "execution_count": null,
   "metadata": {},
   "outputs": [],
   "source": [
    "# class instantiation automatically invokes __init__()\n",
    "obj = TestClass(\"value1\")\n",
    "obj2 = TestClass(\"value2\")"
   ]
  },
  {
   "cell_type": "markdown",
   "metadata": {},
   "source": [
    "## - Attributes access"
   ]
  },
  {
   "cell_type": "code",
   "execution_count": null,
   "metadata": {},
   "outputs": [],
   "source": [
    "# Read attribute attr2 of obj1\n",
    "#..."
   ]
  },
  {
   "cell_type": "code",
   "execution_count": null,
   "metadata": {},
   "outputs": [],
   "source": [
    "# Read attribute attr2 of obj2\n",
    "#..."
   ]
  },
  {
   "cell_type": "code",
   "execution_count": null,
   "metadata": {},
   "outputs": [],
   "source": [
    "# the class attributes that starts with a __ \n",
    "# are not accessible from outside the class\n",
    "\n",
    "# ..."
   ]
  },
  {
   "cell_type": "markdown",
   "metadata": {},
   "source": [
    "## - Methods call"
   ]
  },
  {
   "cell_type": "code",
   "execution_count": null,
   "metadata": {},
   "outputs": [],
   "source": [
    "result = obj.test_function(\"test\")\n",
    "result"
   ]
  }
 ],
 "metadata": {
  "kernelspec": {
   "display_name": "Python 3",
   "language": "python",
   "name": "python3"
  },
  "language_info": {
   "codemirror_mode": {
    "name": "ipython",
    "version": 3
   },
   "file_extension": ".py",
   "mimetype": "text/x-python",
   "name": "python",
   "nbconvert_exporter": "python",
   "pygments_lexer": "ipython3",
   "version": "3.7.6"
  }
 },
 "nbformat": 4,
 "nbformat_minor": 4
}
